{
 "cells": [
  {
   "cell_type": "code",
   "execution_count": 14,
   "metadata": {},
   "outputs": [],
   "source": [
    "from sklearn.feature_extraction.text import TfidfVectorizer\n",
    "from sklearn.linear_model import SGDClassifier\n",
    "from sklearn.pipeline import Pipeline\n",
    "import pandas as pd\n"
   ]
  },
  {
   "cell_type": "code",
   "execution_count": 32,
   "metadata": {},
   "outputs": [],
   "source": [
    "from os import walk\n",
    "from functools import reduce\n",
    "\n",
    "\n",
    "def read_dataset():\n",
    "    _, _, filenames = next(walk(\"labelled_dataset\"))\n",
    "    dfs = []\n",
    "    for f in filenames:\n",
    "        df = pd.read_csv(f\"labelled_dataset/{f}\")\n",
    "        dfs.append(df)\n",
    "        \n",
    "    return pd.concat(dfs)"
   ]
  },
  {
   "cell_type": "code",
   "execution_count": 79,
   "metadata": {},
   "outputs": [],
   "source": [
    "df = read_dataset()"
   ]
  },
  {
   "cell_type": "code",
   "execution_count": 35,
   "metadata": {},
   "outputs": [
    {
     "data": {
      "text/html": [
       "<div>\n",
       "<style scoped>\n",
       "    .dataframe tbody tr th:only-of-type {\n",
       "        vertical-align: middle;\n",
       "    }\n",
       "\n",
       "    .dataframe tbody tr th {\n",
       "        vertical-align: top;\n",
       "    }\n",
       "\n",
       "    .dataframe thead th {\n",
       "        text-align: right;\n",
       "    }\n",
       "</style>\n",
       "<table border=\"1\" class=\"dataframe\">\n",
       "  <thead>\n",
       "    <tr style=\"text-align: right;\">\n",
       "      <th></th>\n",
       "      <th>Unnamed: 0</th>\n",
       "      <th>Unnamed: 0.1</th>\n",
       "      <th>marketplace</th>\n",
       "      <th>customer_id</th>\n",
       "      <th>review_id</th>\n",
       "      <th>product_id</th>\n",
       "      <th>product_parent</th>\n",
       "      <th>product_title</th>\n",
       "      <th>product_category</th>\n",
       "      <th>star_rating</th>\n",
       "      <th>helpful_votes</th>\n",
       "      <th>total_votes</th>\n",
       "      <th>vine</th>\n",
       "      <th>verified_purchase</th>\n",
       "      <th>review_headline</th>\n",
       "      <th>review_body</th>\n",
       "      <th>review_date</th>\n",
       "      <th>sentiment_score</th>\n",
       "      <th>food_safety_flag</th>\n",
       "    </tr>\n",
       "  </thead>\n",
       "  <tbody>\n",
       "    <tr>\n",
       "      <th>0</th>\n",
       "      <td>92461</td>\n",
       "      <td>92472</td>\n",
       "      <td>US</td>\n",
       "      <td>39315055</td>\n",
       "      <td>R2O55EFZHUL3L1</td>\n",
       "      <td>B00MDY0YVG</td>\n",
       "      <td>63674821</td>\n",
       "      <td>Lay's Cheddar Bacon Mac &amp; Cheese Potato Chips ...</td>\n",
       "      <td>Grocery</td>\n",
       "      <td>1.0</td>\n",
       "      <td>1.0</td>\n",
       "      <td>3.0</td>\n",
       "      <td>N</td>\n",
       "      <td>N</td>\n",
       "      <td>If you're afraid you've been poisoned and don'...</td>\n",
       "      <td>These things - I refuse to call them &amp;#34;chip...</td>\n",
       "      <td>2015-07-30</td>\n",
       "      <td>-0.4717</td>\n",
       "      <td>0</td>\n",
       "    </tr>\n",
       "    <tr>\n",
       "      <th>1</th>\n",
       "      <td>94800</td>\n",
       "      <td>94811</td>\n",
       "      <td>US</td>\n",
       "      <td>50817445</td>\n",
       "      <td>R30VZHOSGHZFTY</td>\n",
       "      <td>B007IW305A</td>\n",
       "      <td>118841434</td>\n",
       "      <td>Ajika Regal Pilaf with Nuts and Rasins -Whole ...</td>\n",
       "      <td>Grocery</td>\n",
       "      <td>1.0</td>\n",
       "      <td>1.0</td>\n",
       "      <td>1.0</td>\n",
       "      <td>N</td>\n",
       "      <td>Y</td>\n",
       "      <td>Terrible, buggy, rotten smell</td>\n",
       "      <td>What a different experience the other person w...</td>\n",
       "      <td>2015-07-29</td>\n",
       "      <td>-0.6734</td>\n",
       "      <td>1</td>\n",
       "    </tr>\n",
       "    <tr>\n",
       "      <th>2</th>\n",
       "      <td>98590</td>\n",
       "      <td>98601</td>\n",
       "      <td>US</td>\n",
       "      <td>42738111</td>\n",
       "      <td>R3OMR3IWMCHDTH</td>\n",
       "      <td>B00II6YIGU</td>\n",
       "      <td>167483393</td>\n",
       "      <td>Capstar Dogs &amp; Cats Blue 2-25lbs 6 pk Flea Tre...</td>\n",
       "      <td>Grocery</td>\n",
       "      <td>4.0</td>\n",
       "      <td>0.0</td>\n",
       "      <td>0.0</td>\n",
       "      <td>N</td>\n",
       "      <td>Y</td>\n",
       "      <td>This is a good product. My cats had no ill eff...</td>\n",
       "      <td>This is a good product.  My cats had no ill ef...</td>\n",
       "      <td>2015-07-28</td>\n",
       "      <td>-0.2732</td>\n",
       "      <td>0</td>\n",
       "    </tr>\n",
       "    <tr>\n",
       "      <th>3</th>\n",
       "      <td>108424</td>\n",
       "      <td>108435</td>\n",
       "      <td>US</td>\n",
       "      <td>19278223</td>\n",
       "      <td>RGI0BTFNDROU9</td>\n",
       "      <td>B004OVWQDA</td>\n",
       "      <td>647776976</td>\n",
       "      <td>Taste Nirvan, Coconut Water, (Pack of 12)</td>\n",
       "      <td>Grocery</td>\n",
       "      <td>3.0</td>\n",
       "      <td>5.0</td>\n",
       "      <td>5.0</td>\n",
       "      <td>N</td>\n",
       "      <td>Y</td>\n",
       "      <td>... return two of them because they did not ta...</td>\n",
       "      <td>This stuff is delicious and I have ordered sev...</td>\n",
       "      <td>2015-07-25</td>\n",
       "      <td>-0.7364</td>\n",
       "      <td>1</td>\n",
       "    </tr>\n",
       "    <tr>\n",
       "      <th>4</th>\n",
       "      <td>110787</td>\n",
       "      <td>110798</td>\n",
       "      <td>US</td>\n",
       "      <td>30804716</td>\n",
       "      <td>R3AS6OXW82P248</td>\n",
       "      <td>B00VN76PCQ</td>\n",
       "      <td>584830304</td>\n",
       "      <td>Crunchies Freeze Dried Fruit Snack Organic Var...</td>\n",
       "      <td>Grocery</td>\n",
       "      <td>3.0</td>\n",
       "      <td>0.0</td>\n",
       "      <td>1.0</td>\n",
       "      <td>N</td>\n",
       "      <td>Y</td>\n",
       "      <td>Disappointing and dangerous for toddlers</td>\n",
       "      <td>These were rather  disappointing - they are ve...</td>\n",
       "      <td>2015-07-24</td>\n",
       "      <td>-0.8437</td>\n",
       "      <td>1</td>\n",
       "    </tr>\n",
       "  </tbody>\n",
       "</table>\n",
       "</div>"
      ],
      "text/plain": [
       "   Unnamed: 0  Unnamed: 0.1 marketplace  customer_id       review_id  \\\n",
       "0       92461         92472          US     39315055  R2O55EFZHUL3L1   \n",
       "1       94800         94811          US     50817445  R30VZHOSGHZFTY   \n",
       "2       98590         98601          US     42738111  R3OMR3IWMCHDTH   \n",
       "3      108424        108435          US     19278223   RGI0BTFNDROU9   \n",
       "4      110787        110798          US     30804716  R3AS6OXW82P248   \n",
       "\n",
       "   product_id  product_parent  \\\n",
       "0  B00MDY0YVG        63674821   \n",
       "1  B007IW305A       118841434   \n",
       "2  B00II6YIGU       167483393   \n",
       "3  B004OVWQDA       647776976   \n",
       "4  B00VN76PCQ       584830304   \n",
       "\n",
       "                                       product_title product_category  \\\n",
       "0  Lay's Cheddar Bacon Mac & Cheese Potato Chips ...          Grocery   \n",
       "1  Ajika Regal Pilaf with Nuts and Rasins -Whole ...          Grocery   \n",
       "2  Capstar Dogs & Cats Blue 2-25lbs 6 pk Flea Tre...          Grocery   \n",
       "3          Taste Nirvan, Coconut Water, (Pack of 12)          Grocery   \n",
       "4  Crunchies Freeze Dried Fruit Snack Organic Var...          Grocery   \n",
       "\n",
       "   star_rating  helpful_votes  total_votes vine verified_purchase  \\\n",
       "0          1.0            1.0          3.0    N                 N   \n",
       "1          1.0            1.0          1.0    N                 Y   \n",
       "2          4.0            0.0          0.0    N                 Y   \n",
       "3          3.0            5.0          5.0    N                 Y   \n",
       "4          3.0            0.0          1.0    N                 Y   \n",
       "\n",
       "                                     review_headline  \\\n",
       "0  If you're afraid you've been poisoned and don'...   \n",
       "1                      Terrible, buggy, rotten smell   \n",
       "2  This is a good product. My cats had no ill eff...   \n",
       "3  ... return two of them because they did not ta...   \n",
       "4           Disappointing and dangerous for toddlers   \n",
       "\n",
       "                                         review_body review_date  \\\n",
       "0  These things - I refuse to call them &#34;chip...  2015-07-30   \n",
       "1  What a different experience the other person w...  2015-07-29   \n",
       "2  This is a good product.  My cats had no ill ef...  2015-07-28   \n",
       "3  This stuff is delicious and I have ordered sev...  2015-07-25   \n",
       "4  These were rather  disappointing - they are ve...  2015-07-24   \n",
       "\n",
       "   sentiment_score food_safety_flag  \n",
       "0          -0.4717                0  \n",
       "1          -0.6734                1  \n",
       "2          -0.2732                0  \n",
       "3          -0.7364                1  \n",
       "4          -0.8437                1  "
      ]
     },
     "execution_count": 35,
     "metadata": {},
     "output_type": "execute_result"
    }
   ],
   "source": [
    "df.head()"
   ]
  },
  {
   "cell_type": "code",
   "execution_count": 85,
   "metadata": {},
   "outputs": [
    {
     "name": "stdout",
     "output_type": "stream",
     "text": [
      "89\n"
     ]
    }
   ],
   "source": []
  },
  {
   "cell_type": "code",
   "execution_count": 115,
   "metadata": {},
   "outputs": [],
   "source": [
    "def build_dataset(df, review_feature, meta_features, label_feature):\n",
    "    df.reset_index(inplace=True, drop=True)\n",
    "    v = TfidfVectorizer()\n",
    "    x = v.fit_transform(df[review_feature])\n",
    "    tfidf_dataset = pd.DataFrame(x.toarray(), columns=v.get_feature_names())\n",
    "    meta_feature_dataset = df[meta_features]\n",
    "                    # because sometimes the label are written as \"0//\" instead of just \"0\".This filter maps it correctly \n",
    "    return pd.concat([meta_feature_dataset, tfidf_dataset],axis=1), [0 if \"0\" in str(label) else 1 for label in df[label_feature]]\n",
    "\n",
    "\n",
    "\n",
    "    "
   ]
  },
  {
   "cell_type": "code",
   "execution_count": 116,
   "metadata": {},
   "outputs": [],
   "source": [
    "X, y = build_dataset(df, \"review_body\", [\"sentiment_score\", \"star_rating\"], \"food_safety_flag\" )"
   ]
  },
  {
   "cell_type": "code",
   "execution_count": 107,
   "metadata": {},
   "outputs": [],
   "source": [
    "from sklearn.model_selection import train_test_split"
   ]
  },
  {
   "cell_type": "code",
   "execution_count": 117,
   "metadata": {},
   "outputs": [],
   "source": [
    "X_train, X_val, y_train, y_val = train_test_split(X, y, test_size=0.2)"
   ]
  },
  {
   "cell_type": "code",
   "execution_count": 118,
   "metadata": {},
   "outputs": [
    {
     "ename": "ValueError",
     "evalue": "Negative values in data passed to MultinomialNB (input X)",
     "output_type": "error",
     "traceback": [
      "\u001b[0;31m---------------------------------------------------------------------------\u001b[0m",
      "\u001b[0;31mValueError\u001b[0m                                Traceback (most recent call last)",
      "\u001b[0;32m<ipython-input-118-b81e2fe3dbee>\u001b[0m in \u001b[0;36m<module>\u001b[0;34m\u001b[0m\n\u001b[1;32m      1\u001b[0m \u001b[0;32mfrom\u001b[0m \u001b[0msklearn\u001b[0m\u001b[0;34m.\u001b[0m\u001b[0mnaive_bayes\u001b[0m \u001b[0;32mimport\u001b[0m \u001b[0mMultinomialNB\u001b[0m\u001b[0;34m\u001b[0m\u001b[0;34m\u001b[0m\u001b[0m\n\u001b[1;32m      2\u001b[0m \u001b[0mclassifier\u001b[0m \u001b[0;34m=\u001b[0m \u001b[0mMultinomialNB\u001b[0m\u001b[0;34m(\u001b[0m\u001b[0;34m)\u001b[0m\u001b[0;34m\u001b[0m\u001b[0;34m\u001b[0m\u001b[0m\n\u001b[0;32m----> 3\u001b[0;31m \u001b[0mclassifier\u001b[0m\u001b[0;34m.\u001b[0m\u001b[0mfit\u001b[0m\u001b[0;34m(\u001b[0m\u001b[0mX_train\u001b[0m\u001b[0;34m,\u001b[0m \u001b[0my_train\u001b[0m\u001b[0;34m)\u001b[0m\u001b[0;34m\u001b[0m\u001b[0;34m\u001b[0m\u001b[0m\n\u001b[0m",
      "\u001b[0;32m/usr/local/lib/python3.8/site-packages/sklearn/naive_bayes.py\u001b[0m in \u001b[0;36mfit\u001b[0;34m(self, X, y, sample_weight)\u001b[0m\n\u001b[1;32m    639\u001b[0m \u001b[0;34m\u001b[0m\u001b[0m\n\u001b[1;32m    640\u001b[0m         \u001b[0mself\u001b[0m\u001b[0;34m.\u001b[0m\u001b[0m_init_counters\u001b[0m\u001b[0;34m(\u001b[0m\u001b[0mn_effective_classes\u001b[0m\u001b[0;34m,\u001b[0m \u001b[0mn_features\u001b[0m\u001b[0;34m)\u001b[0m\u001b[0;34m\u001b[0m\u001b[0;34m\u001b[0m\u001b[0m\n\u001b[0;32m--> 641\u001b[0;31m         \u001b[0mself\u001b[0m\u001b[0;34m.\u001b[0m\u001b[0m_count\u001b[0m\u001b[0;34m(\u001b[0m\u001b[0mX\u001b[0m\u001b[0;34m,\u001b[0m \u001b[0mY\u001b[0m\u001b[0;34m)\u001b[0m\u001b[0;34m\u001b[0m\u001b[0;34m\u001b[0m\u001b[0m\n\u001b[0m\u001b[1;32m    642\u001b[0m         \u001b[0malpha\u001b[0m \u001b[0;34m=\u001b[0m \u001b[0mself\u001b[0m\u001b[0;34m.\u001b[0m\u001b[0m_check_alpha\u001b[0m\u001b[0;34m(\u001b[0m\u001b[0;34m)\u001b[0m\u001b[0;34m\u001b[0m\u001b[0;34m\u001b[0m\u001b[0m\n\u001b[1;32m    643\u001b[0m         \u001b[0mself\u001b[0m\u001b[0;34m.\u001b[0m\u001b[0m_update_feature_log_prob\u001b[0m\u001b[0;34m(\u001b[0m\u001b[0malpha\u001b[0m\u001b[0;34m)\u001b[0m\u001b[0;34m\u001b[0m\u001b[0;34m\u001b[0m\u001b[0m\n",
      "\u001b[0;32m/usr/local/lib/python3.8/site-packages/sklearn/naive_bayes.py\u001b[0m in \u001b[0;36m_count\u001b[0;34m(self, X, Y)\u001b[0m\n\u001b[1;32m    761\u001b[0m     \u001b[0;32mdef\u001b[0m \u001b[0m_count\u001b[0m\u001b[0;34m(\u001b[0m\u001b[0mself\u001b[0m\u001b[0;34m,\u001b[0m \u001b[0mX\u001b[0m\u001b[0;34m,\u001b[0m \u001b[0mY\u001b[0m\u001b[0;34m)\u001b[0m\u001b[0;34m:\u001b[0m\u001b[0;34m\u001b[0m\u001b[0;34m\u001b[0m\u001b[0m\n\u001b[1;32m    762\u001b[0m         \u001b[0;34m\"\"\"Count and smooth feature occurrences.\"\"\"\u001b[0m\u001b[0;34m\u001b[0m\u001b[0;34m\u001b[0m\u001b[0m\n\u001b[0;32m--> 763\u001b[0;31m         \u001b[0mcheck_non_negative\u001b[0m\u001b[0;34m(\u001b[0m\u001b[0mX\u001b[0m\u001b[0;34m,\u001b[0m \u001b[0;34m\"MultinomialNB (input X)\"\u001b[0m\u001b[0;34m)\u001b[0m\u001b[0;34m\u001b[0m\u001b[0;34m\u001b[0m\u001b[0m\n\u001b[0m\u001b[1;32m    764\u001b[0m         \u001b[0mself\u001b[0m\u001b[0;34m.\u001b[0m\u001b[0mfeature_count_\u001b[0m \u001b[0;34m+=\u001b[0m \u001b[0msafe_sparse_dot\u001b[0m\u001b[0;34m(\u001b[0m\u001b[0mY\u001b[0m\u001b[0;34m.\u001b[0m\u001b[0mT\u001b[0m\u001b[0;34m,\u001b[0m \u001b[0mX\u001b[0m\u001b[0;34m)\u001b[0m\u001b[0;34m\u001b[0m\u001b[0;34m\u001b[0m\u001b[0m\n\u001b[1;32m    765\u001b[0m         \u001b[0mself\u001b[0m\u001b[0;34m.\u001b[0m\u001b[0mclass_count_\u001b[0m \u001b[0;34m+=\u001b[0m \u001b[0mY\u001b[0m\u001b[0;34m.\u001b[0m\u001b[0msum\u001b[0m\u001b[0;34m(\u001b[0m\u001b[0maxis\u001b[0m\u001b[0;34m=\u001b[0m\u001b[0;36m0\u001b[0m\u001b[0;34m)\u001b[0m\u001b[0;34m\u001b[0m\u001b[0;34m\u001b[0m\u001b[0m\n",
      "\u001b[0;32m/usr/local/lib/python3.8/site-packages/sklearn/utils/validation.py\u001b[0m in \u001b[0;36mcheck_non_negative\u001b[0;34m(X, whom)\u001b[0m\n\u001b[1;32m   1045\u001b[0m \u001b[0;34m\u001b[0m\u001b[0m\n\u001b[1;32m   1046\u001b[0m     \u001b[0;32mif\u001b[0m \u001b[0mX_min\u001b[0m \u001b[0;34m<\u001b[0m \u001b[0;36m0\u001b[0m\u001b[0;34m:\u001b[0m\u001b[0;34m\u001b[0m\u001b[0;34m\u001b[0m\u001b[0m\n\u001b[0;32m-> 1047\u001b[0;31m         \u001b[0;32mraise\u001b[0m \u001b[0mValueError\u001b[0m\u001b[0;34m(\u001b[0m\u001b[0;34m\"Negative values in data passed to %s\"\u001b[0m \u001b[0;34m%\u001b[0m \u001b[0mwhom\u001b[0m\u001b[0;34m)\u001b[0m\u001b[0;34m\u001b[0m\u001b[0;34m\u001b[0m\u001b[0m\n\u001b[0m\u001b[1;32m   1048\u001b[0m \u001b[0;34m\u001b[0m\u001b[0m\n\u001b[1;32m   1049\u001b[0m \u001b[0;34m\u001b[0m\u001b[0m\n",
      "\u001b[0;31mValueError\u001b[0m: Negative values in data passed to MultinomialNB (input X)"
     ]
    }
   ],
   "source": [
    "from sklearn.naive_bayes import MultinomialNB\n",
    "classifier = MultinomialNB()\n",
    "classifier.fit(X_train, y_train)"
   ]
  },
  {
   "cell_type": "code",
   "execution_count": 112,
   "metadata": {},
   "outputs": [
    {
     "data": {
      "text/plain": [
       "{'alpha': 1.0, 'class_prior': None, 'fit_prior': True}"
      ]
     },
     "execution_count": 112,
     "metadata": {},
     "output_type": "execute_result"
    }
   ],
   "source": [
    "classifier."
   ]
  },
  {
   "cell_type": "code",
   "execution_count": null,
   "metadata": {},
   "outputs": [],
   "source": []
  }
 ],
 "metadata": {
  "kernelspec": {
   "display_name": "Python 3",
   "language": "python",
   "name": "python3"
  },
  "language_info": {
   "codemirror_mode": {
    "name": "ipython",
    "version": 3
   },
   "file_extension": ".py",
   "mimetype": "text/x-python",
   "name": "python",
   "nbconvert_exporter": "python",
   "pygments_lexer": "ipython3",
   "version": "3.8.6"
  }
 },
 "nbformat": 4,
 "nbformat_minor": 4
}
