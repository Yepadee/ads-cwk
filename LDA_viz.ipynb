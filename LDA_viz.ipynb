{
 "cells": [
  {
   "cell_type": "code",
   "execution_count": 1,
   "metadata": {},
   "outputs": [
    {
     "output_type": "stream",
     "name": "stderr",
     "text": [
      "WARNING: pip is being invoked by an old script wrapper. This will fail in a future version of pip.\n",
      "Please see https://github.com/pypa/pip/issues/5599 for advice on fixing the underlying issue.\n",
      "To avoid this problem you can invoke Python with '-m pip' instead of running pip directly.\n",
      "Requirement already satisfied: nltk in c:\\users\\james\\appdata\\local\\programs\\python\\python39\\lib\\site-packages (3.6.1)\n",
      "Requirement already satisfied: click in c:\\users\\james\\appdata\\local\\programs\\python\\python39\\lib\\site-packages (from nltk) (7.1.2)\n",
      "Requirement already satisfied: joblib in c:\\users\\james\\appdata\\local\\programs\\python\\python39\\lib\\site-packages (from nltk) (1.0.1)\n",
      "Requirement already satisfied: tqdm in c:\\users\\james\\appdata\\local\\programs\\python\\python39\\lib\\site-packages (from nltk) (4.60.0)\n",
      "Requirement already satisfied: regex in c:\\users\\james\\appdata\\local\\programs\\python\\python39\\lib\\site-packages (from nltk) (2021.4.4)\n",
      "WARNING: You are using pip version 21.0.1; however, version 21.1.1 is available.\n",
      "You should consider upgrading via the 'C:\\Users\\James\\AppData\\Local\\Programs\\Python\\Python39\\python.exe -m pip install --upgrade pip' command.\n",
      "[nltk_data] Downloading package wordnet to\n",
      "[nltk_data]     C:\\Users\\James\\AppData\\Roaming\\nltk_data...\n",
      "[nltk_data]   Package wordnet is already up-to-date!\n",
      "went\n",
      "go\n"
     ]
    }
   ],
   "source": [
    "# if not nltk.find('corpora/wordnet'): # may need to download it if it's not in your pc\n",
    "#     nltk.download('wordnet')\n",
    "\n",
    "\n",
    "\n",
    "import pip\n",
    "pip.main(['install', 'nltk'])\n",
    "import nltk\n",
    "nltk.download('wordnet')\n",
    "from nltk.stem import WordNetLemmatizer\n",
    "lemmatizer = WordNetLemmatizer()\n",
    "print(lemmatizer.lemmatize('went')) # Default is noun\n",
    "print(lemmatizer.lemmatize('went', 'v')) # If \"v\", it works with verbs.# If needed later, I will spend some time to find the part of speech of each word, and use lemmatizer accordingly"
   ]
  },
  {
   "cell_type": "code",
   "execution_count": 2,
   "metadata": {},
   "outputs": [
    {
     "output_type": "stream",
     "name": "stdout",
     "text": [
      "Requirement already satisfied: gensim in c:\\users\\james\\appdata\\local\\programs\\python\\python39\\lib\\site-packages (4.0.1)\n",
      "Requirement already satisfied: numpy>=1.11.3 in c:\\users\\james\\appdata\\local\\programs\\python\\python39\\lib\\site-packages (from gensim) (1.20.1)\n",
      "Requirement already satisfied: scipy>=0.18.1 in c:\\users\\james\\appdata\\local\\programs\\python\\python39\\lib\\site-packages (from gensim) (1.6.2)\n",
      "Requirement already satisfied: smart_open>=1.8.1 in c:\\users\\james\\appdata\\local\\programs\\python\\python39\\lib\\site-packages (from gensim) (5.0.0)\n",
      "WARNING: pip is being invoked by an old script wrapper. This will fail in a future version of pip.\n",
      "Please see https://github.com/pypa/pip/issues/5599 for advice on fixing the underlying issue.\n",
      "To avoid this problem you can invoke Python with '-m pip' instead of running pip directly.\n",
      "WARNING: You are using pip version 21.0.1; however, version 21.1.1 is available.\n",
      "You should consider upgrading via the 'C:\\Users\\James\\AppData\\Local\\Programs\\Python\\Python39\\python.exe -m pip install --upgrade pip' command.\n"
     ]
    }
   ],
   "source": [
    "import pip \n",
    "pip.main([\"install\", \"gensim\"])\n",
    "from gensim.parsing.preprocessing import STOPWORDS\n",
    "import gensim"
   ]
  },
  {
   "cell_type": "code",
   "execution_count": 3,
   "metadata": {},
   "outputs": [],
   "source": [
    "n_topics = 60"
   ]
  },
  {
   "cell_type": "code",
   "execution_count": 12,
   "metadata": {},
   "outputs": [
    {
     "output_type": "stream",
     "name": "stderr",
     "text": [
      "C:\\Users\\James\\AppData\\Roaming\\Python\\Python39\\site-packages\\ipykernel\\ipkernel.py:283: DeprecationWarning: `should_run_async` will not call `transform_cell` automatically in the future. Please pass the result to `transformed_cell` argument and any exception that happen during thetransform in `preprocessing_exc_tuple` in IPython 7.17 and above.\n  and should_run_async(code)\n"
     ]
    }
   ],
   "source": [
    "import ast\n",
    "from gensim.parsing.preprocessing import STOPWORDS\n",
    "import gensim\n",
    "\n",
    "f = open(f\"bow_corpus.txt\", \"r\")\n",
    "txt_bow = f.read()\n",
    "f.close()\n",
    "splitted = txt_bow[1:-1].split(\"], \")\n",
    "\n",
    "# Have to parse in parts otherwise it crashes lol\n",
    "bow_corpus = []\n",
    "for token in splitted:\n",
    "    if token[-1] != \"]\":\n",
    "        token = token + \"]\"\n",
    "    bow_corpus.append(ast.literal_eval(token))\n",
    "\n",
    "from gensim.corpora import Dictionary\n",
    "dictionary = Dictionary.load(f\"models/model{n_topics}/lda.model.id2word\")\n",
    "# Here, we give the bag of words we have (for now I have used first 1000 reviews), how many topics we want to get,\n",
    "# the dictionary of the id <-> word mappings and how many passes(epochs) to perform, and it creates the model.\n",
    "lda_model =  gensim.models.LdaModel.load(f\"models/model{n_topics}/lda.model\")\n",
    "\n",
    "import pyLDAvis\n",
    "import pyLDAvis\n",
    "import pyLDAvis.gensim_models\n",
    "\n",
    "\n",
    "LDAvis_prepared = pyLDAvis.gensim_models.prepare(lda_model, bow_corpus, dictionary)\n",
    "pyLDAvis.save_html(LDAvis_prepared, f\"html/b_tm{n_topics}.html\")\n"
   ]
  },
  {
   "cell_type": "code",
   "execution_count": null,
   "metadata": {},
   "outputs": [],
   "source": []
  }
 ],
 "metadata": {
  "kernelspec": {
   "name": "python394jvsc74a57bd052774b798c40528f530de7657fd1851e18ea3fd46ccdf10ced65da4d8da447ac",
   "display_name": "Python 3.9.4 64-bit"
  },
  "language_info": {
   "codemirror_mode": {
    "name": "ipython",
    "version": 3
   },
   "file_extension": ".py",
   "mimetype": "text/x-python",
   "name": "python",
   "nbconvert_exporter": "python",
   "pygments_lexer": "ipython3",
   "version": "3.9.4"
  },
  "metadata": {
   "interpreter": {
    "hash": "52774b798c40528f530de7657fd1851e18ea3fd46ccdf10ced65da4d8da447ac"
   }
  }
 },
 "nbformat": 4,
 "nbformat_minor": 4
}