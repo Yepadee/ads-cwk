{
 "cells": [
  {
   "cell_type": "code",
   "execution_count": 14,
   "metadata": {},
   "outputs": [],
   "source": [
    "import pandas as pd\n",
    "DATASET = \"amazon_reviews_us_Grocery_v1_00.tsv\"\n",
    "import logging\n",
    "import warnings\n",
    "import sys\n",
    "import matplotlib.pyplot as plt\n",
    "from wordcloud import WordCloud, STOPWORDS\n",
    "from nltk.corpus import wordnet\n",
    "import nltk\n",
    "from nltk.sentiment import SentimentIntensityAnalyzer\n",
    "\n",
    "warnings.filterwarnings('ignore')\n",
    "warnings.simplefilter('ignore')\n",
    "logging.disable(sys.maxsize)\n",
    "\n"
   ]
  },
  {
   "cell_type": "code",
   "execution_count": 183,
   "metadata": {},
   "outputs": [],
   "source": [
    "dataset = pd.read_table(DATASET, error_bad_lines=False, header=0, warn_bad_lines=False) \n",
    "# there are some malformed entries the dataset... let's ignore those for now\n"
   ]
  },
  {
   "cell_type": "code",
   "execution_count": 184,
   "metadata": {},
   "outputs": [
    {
     "output_type": "execute_result",
     "data": {
      "text/plain": [
       "2393379"
      ]
     },
     "metadata": {},
     "execution_count": 184
    }
   ],
   "source": [
    "len(dataset.index)"
   ]
  },
  {
   "cell_type": "code",
   "execution_count": 185,
   "metadata": {},
   "outputs": [
    {
     "output_type": "error",
     "ename": "NameError",
     "evalue": "name 'subjects' is not defined",
     "traceback": [
      "\u001b[1;31m---------------------------------------------------------------------------\u001b[0m",
      "\u001b[1;31mNameError\u001b[0m                                 Traceback (most recent call last)",
      "\u001b[1;32m<ipython-input-185-3a6f14b0a712>\u001b[0m in \u001b[0;36m<module>\u001b[1;34m\u001b[0m\n\u001b[0;32m      1\u001b[0m \u001b[0msynonyms\u001b[0m \u001b[1;33m=\u001b[0m \u001b[1;33m[\u001b[0m\u001b[1;33m]\u001b[0m\u001b[1;33m\u001b[0m\u001b[1;33m\u001b[0m\u001b[0m\n\u001b[1;32m----> 2\u001b[1;33m \u001b[1;32mfor\u001b[0m \u001b[0msubject\u001b[0m \u001b[1;32min\u001b[0m \u001b[0msubjects\u001b[0m\u001b[1;33m:\u001b[0m\u001b[1;33m\u001b[0m\u001b[1;33m\u001b[0m\u001b[0m\n\u001b[0m\u001b[0;32m      3\u001b[0m     \u001b[1;32mfor\u001b[0m \u001b[0msyn\u001b[0m \u001b[1;32min\u001b[0m \u001b[0mwordnet\u001b[0m\u001b[1;33m.\u001b[0m\u001b[0msynsets\u001b[0m\u001b[1;33m(\u001b[0m\u001b[0msubject\u001b[0m\u001b[1;33m)\u001b[0m\u001b[1;33m:\u001b[0m\u001b[1;33m\u001b[0m\u001b[1;33m\u001b[0m\u001b[0m\n\u001b[0;32m      4\u001b[0m         \u001b[1;32mfor\u001b[0m \u001b[0ml\u001b[0m \u001b[1;32min\u001b[0m \u001b[0msyn\u001b[0m\u001b[1;33m.\u001b[0m\u001b[0mlemmas\u001b[0m\u001b[1;33m(\u001b[0m\u001b[1;33m)\u001b[0m\u001b[1;33m:\u001b[0m\u001b[1;33m\u001b[0m\u001b[1;33m\u001b[0m\u001b[0m\n\u001b[0;32m      5\u001b[0m             \u001b[0msynonyms\u001b[0m\u001b[1;33m.\u001b[0m\u001b[0mappend\u001b[0m\u001b[1;33m(\u001b[0m\u001b[0ml\u001b[0m\u001b[1;33m.\u001b[0m\u001b[0mname\u001b[0m\u001b[1;33m(\u001b[0m\u001b[1;33m)\u001b[0m\u001b[1;33m)\u001b[0m\u001b[1;33m\u001b[0m\u001b[1;33m\u001b[0m\u001b[0m\n",
      "\u001b[1;31mNameError\u001b[0m: name 'subjects' is not defined"
     ]
    }
   ],
   "source": [
    "synonyms = []\n",
    "for subject in subjects:\n",
    "    for syn in wordnet.synsets(subject):\n",
    "        for l in syn.lemmas():\n",
    "            synonyms.append(l.name())\n",
    "\n",
    "print(set(synonyms))\n"
   ]
  },
  {
   "cell_type": "code",
   "execution_count": 186,
   "metadata": {},
   "outputs": [
    {
     "output_type": "execute_result",
     "data": {
      "text/plain": [
       "  marketplace  customer_id       review_id  product_id  product_parent  \\\n",
       "0          US     42521656  R26MV8D0KG6QI6  B000SAQCWC       159713740   \n",
       "1          US     12049833  R1OF8GP57AQ1A0  B00509LVIQ       138680402   \n",
       "2          US       107642  R3VDC1QB6MC4ZZ  B00KHXESLC       252021703   \n",
       "3          US      6042304  R12FA3DCF8F9ER  B000F8JIIC       752728342   \n",
       "4          US     18123821   RTWHVNV6X4CNJ  B004ZWR9RQ       552138758   \n",
       "\n",
       "                                                                                                                          product_title  \\\n",
       "0                                                              The Cravings Place Chocolate Chunk Cookie Mix, 23-Ounce Bags (Pack of 6)   \n",
       "1                                                                                               Mauna Loa Macadamias, 11 Ounce Packages   \n",
       "2  Organic Matcha Green Tea Powder - 100% Pure Matcha (No Sugar Added - Unsweetened Pure Green Tea - No Coloring Added Like Others) 4oz   \n",
       "3                                                                                     15oz Raspberry Lyons Designer Dessert Syrup Sauce   \n",
       "4                                                                      Stride Spark Kinetic Fruit Sugar Free Gum, 14-Count (Pack of 12)   \n",
       "\n",
       "  product_category star_rating  helpful_votes  total_votes vine  \\\n",
       "0          Grocery           5            0.0          0.0    N   \n",
       "1          Grocery           5            0.0          0.0    N   \n",
       "2          Grocery           5            0.0          0.0    N   \n",
       "3          Grocery           5            0.0          0.0    N   \n",
       "4          Grocery           5            0.0          0.0    N   \n",
       "\n",
       "  verified_purchase                     review_headline  \\\n",
       "0                 Y  Using these for years - love them.   \n",
       "1                 Y                           Wonderful   \n",
       "2                 N                          Five Stars   \n",
       "3                 Y                          Five Stars   \n",
       "4                 Y                          Five Stars   \n",
       "\n",
       "                                                                                                                                                                                                                                                                                                                                                                                                                                                                            review_body  \\\n",
       "0  As a family allergic to wheat, dairy, eggs, nuts, and several other things, we love the entire Cravings Place line of products as it allows us to bake treats with minimal effort and ingredients. Most allergy-free and gluten-free mixes usually just omit one or two allergens at most, so it's great to see a mix created without many of the most common allergens. (Note these still have soy and corn). We consume these on a regular basis and have been doing so for years.   \n",
       "1                                                                                                                                                                                                                                                                                                                                                                                           My favorite nut.  Creamy, crunchy, salty, and slightly sweet - what more could you ask for?   \n",
       "2                                                                                                                                                                                                                                                                                                                                                                                                                            This green tea tastes so good! My girlfriend loves it too.   \n",
       "3                                                                                                                                                                                                                                                                                                                                                                                                   I love Melissa's brand but this is a great second when I can't get Melissa's brand.   \n",
       "4                                                                                                                                                                                                                                                                                                                                                                                                                                                                                  good   \n",
       "\n",
       "  review_date  \n",
       "0  2015-08-31  \n",
       "1  2015-08-31  \n",
       "2  2015-08-31  \n",
       "3  2015-08-31  \n",
       "4  2015-08-31  "
      ],
      "text/html": "<div>\n<style scoped>\n    .dataframe tbody tr th:only-of-type {\n        vertical-align: middle;\n    }\n\n    .dataframe tbody tr th {\n        vertical-align: top;\n    }\n\n    .dataframe thead th {\n        text-align: right;\n    }\n</style>\n<table border=\"1\" class=\"dataframe\">\n  <thead>\n    <tr style=\"text-align: right;\">\n      <th></th>\n      <th>marketplace</th>\n      <th>customer_id</th>\n      <th>review_id</th>\n      <th>product_id</th>\n      <th>product_parent</th>\n      <th>product_title</th>\n      <th>product_category</th>\n      <th>star_rating</th>\n      <th>helpful_votes</th>\n      <th>total_votes</th>\n      <th>vine</th>\n      <th>verified_purchase</th>\n      <th>review_headline</th>\n      <th>review_body</th>\n      <th>review_date</th>\n    </tr>\n  </thead>\n  <tbody>\n    <tr>\n      <th>0</th>\n      <td>US</td>\n      <td>42521656</td>\n      <td>R26MV8D0KG6QI6</td>\n      <td>B000SAQCWC</td>\n      <td>159713740</td>\n      <td>The Cravings Place Chocolate Chunk Cookie Mix, 23-Ounce Bags (Pack of 6)</td>\n      <td>Grocery</td>\n      <td>5</td>\n      <td>0.0</td>\n      <td>0.0</td>\n      <td>N</td>\n      <td>Y</td>\n      <td>Using these for years - love them.</td>\n      <td>As a family allergic to wheat, dairy, eggs, nuts, and several other things, we love the entire Cravings Place line of products as it allows us to bake treats with minimal effort and ingredients. Most allergy-free and gluten-free mixes usually just omit one or two allergens at most, so it's great to see a mix created without many of the most common allergens. (Note these still have soy and corn). We consume these on a regular basis and have been doing so for years.</td>\n      <td>2015-08-31</td>\n    </tr>\n    <tr>\n      <th>1</th>\n      <td>US</td>\n      <td>12049833</td>\n      <td>R1OF8GP57AQ1A0</td>\n      <td>B00509LVIQ</td>\n      <td>138680402</td>\n      <td>Mauna Loa Macadamias, 11 Ounce Packages</td>\n      <td>Grocery</td>\n      <td>5</td>\n      <td>0.0</td>\n      <td>0.0</td>\n      <td>N</td>\n      <td>Y</td>\n      <td>Wonderful</td>\n      <td>My favorite nut.  Creamy, crunchy, salty, and slightly sweet - what more could you ask for?</td>\n      <td>2015-08-31</td>\n    </tr>\n    <tr>\n      <th>2</th>\n      <td>US</td>\n      <td>107642</td>\n      <td>R3VDC1QB6MC4ZZ</td>\n      <td>B00KHXESLC</td>\n      <td>252021703</td>\n      <td>Organic Matcha Green Tea Powder - 100% Pure Matcha (No Sugar Added - Unsweetened Pure Green Tea - No Coloring Added Like Others) 4oz</td>\n      <td>Grocery</td>\n      <td>5</td>\n      <td>0.0</td>\n      <td>0.0</td>\n      <td>N</td>\n      <td>N</td>\n      <td>Five Stars</td>\n      <td>This green tea tastes so good! My girlfriend loves it too.</td>\n      <td>2015-08-31</td>\n    </tr>\n    <tr>\n      <th>3</th>\n      <td>US</td>\n      <td>6042304</td>\n      <td>R12FA3DCF8F9ER</td>\n      <td>B000F8JIIC</td>\n      <td>752728342</td>\n      <td>15oz Raspberry Lyons Designer Dessert Syrup Sauce</td>\n      <td>Grocery</td>\n      <td>5</td>\n      <td>0.0</td>\n      <td>0.0</td>\n      <td>N</td>\n      <td>Y</td>\n      <td>Five Stars</td>\n      <td>I love Melissa's brand but this is a great second when I can't get Melissa's brand.</td>\n      <td>2015-08-31</td>\n    </tr>\n    <tr>\n      <th>4</th>\n      <td>US</td>\n      <td>18123821</td>\n      <td>RTWHVNV6X4CNJ</td>\n      <td>B004ZWR9RQ</td>\n      <td>552138758</td>\n      <td>Stride Spark Kinetic Fruit Sugar Free Gum, 14-Count (Pack of 12)</td>\n      <td>Grocery</td>\n      <td>5</td>\n      <td>0.0</td>\n      <td>0.0</td>\n      <td>N</td>\n      <td>Y</td>\n      <td>Five Stars</td>\n      <td>good</td>\n      <td>2015-08-31</td>\n    </tr>\n  </tbody>\n</table>\n</div>"
     },
     "metadata": {},
     "execution_count": 186
    }
   ],
   "source": [
    "### Let's see what the dataset looks like... \n",
    "dataset.head()\n"
   ]
  },
  {
   "cell_type": "code",
   "execution_count": 187,
   "metadata": {},
   "outputs": [
    {
     "output_type": "execute_result",
     "data": {
      "text/plain": [
       "marketplace           0\n",
       "customer_id           0\n",
       "review_id             0\n",
       "product_id            0\n",
       "product_parent        0\n",
       "product_title         0\n",
       "product_category      0\n",
       "star_rating          22\n",
       "helpful_votes        23\n",
       "total_votes          23\n",
       "vine                 23\n",
       "verified_purchase    23\n",
       "review_headline      34\n",
       "review_body          88\n",
       "review_date          65\n",
       "dtype: int64"
      ]
     },
     "metadata": {},
     "execution_count": 187
    }
   ],
   "source": [
    "#lots of nan values... :( \n",
    "dataset.isnull().sum()"
   ]
  },
  {
   "cell_type": "code",
   "execution_count": 188,
   "metadata": {},
   "outputs": [
    {
     "output_type": "execute_result",
     "data": {
      "text/plain": [
       "B00DS842HS    9998\n",
       "B007Y59HVM    4526\n",
       "B00M2OGS08    3881\n",
       "B007TGDXMU    3691\n",
       "B0029XDZIK    3461\n",
       "              ... \n",
       "B00AQKFQXU       1\n",
       "B000LRIGUS       1\n",
       "B00HUHVS3E       1\n",
       "B00P4CD4KC       1\n",
       "B00J3YSH40       1\n",
       "Name: product_id, Length: 305026, dtype: int64"
      ]
     },
     "metadata": {},
     "execution_count": 188
    }
   ],
   "source": [
    "# Counts of reviews for same product\n",
    "dataset['product_id'].value_counts()"
   ]
  },
  {
   "cell_type": "code",
   "execution_count": 189,
   "metadata": {},
   "outputs": [
    {
     "output_type": "execute_result",
     "data": {
      "text/plain": [
       "Great                                                                                                                                                                                                                                                                                                                                                                                                                                       3592\n",
       "good                                                                                                                                                                                                                                                                                                                                                                                                                                        3479\n",
       "great                                                                                                                                                                                                                                                                                                                                                                                                                                       2913\n",
       "Good                                                                                                                                                                                                                                                                                                                                                                                                                                        2728\n",
       "Delicious!                                                                                                                                                                                                                                                                                                                                                                                                                                  2188\n",
       "                                                                                                                                                                                                                                                                                                                                                                                                                                            ... \n",
       "This tea seem to be made with high quality Darjeeling type of tea, with full leaves. I make this tea with 1 teaspoon in the evening and later use it 2nd time before I go to bed, as a decaf. Tastes great as sweetened black tea and not best for making Chai. Addition of Lavender flowers really enhanced the taste and relaxing effect one feels with this tea, even though their is caffeine in the tea.                                  1\n",
       "Fell in love with this candy a long time ago.  Could only find it at Disney World recently.  This candy looks the same as it use to except that all the paint brushes were the same flavor/color.  We ate most of them but some of the paint brushes looked like they had gotten wet and melted out of its package.                                                                                                                            1\n",
       "I found this to be a good controller for my HTPC.  It has a lot of functionality for the size and its range is more than enough.  Charges via USB and keeps a charge for quite awhile.  Touchpad is sensitive enough to browse easily.  Some issues include; no F5 key, no Alt key (important if you need to log into a windows OS), and special key positions take some getting used to.  Even with the limitations, I'm happy with it.       1\n",
       "I like the product's taste and texture but last two orders were missing bags of chips.  Got 5 bags instead of the six paid for; checked the offer again and both delivery boxes.  Both say 6 bags of chips but only 5 delivered.  I won't bother trying to order this again.                                                                                                                                                                   1\n",
       "Bought as a gift.  He said they were okay but didn't get the impression is he very impressed.                                                                                                                                                                                                                                                                                                                                                  1\n",
       "Name: review_body, Length: 2218216, dtype: int64"
      ]
     },
     "metadata": {},
     "execution_count": 189
    }
   ],
   "source": [
    "# Counts of reviews with same body\n",
    "dataset['review_body'].value_counts()"
   ]
  },
  {
   "cell_type": "code",
   "execution_count": 190,
   "metadata": {},
   "outputs": [
    {
     "output_type": "execute_result",
     "data": {
      "text/plain": [
       "Five Stars                                                                                                335898\n",
       "Four Stars                                                                                                 46683\n",
       "Three Stars                                                                                                22617\n",
       "One Star                                                                                                   19808\n",
       "Two Stars                                                                                                  12316\n",
       "                                                                                                           ...  \n",
       "Eh....save your money and make your own.                                                                       1\n",
       "Just chili beans, nothing too exciting, consistently good quality.                                             1\n",
       "Love this matcha green tea!                                                                                    1\n",
       "DOUBLED THE PRICE                                                                                              1\n",
       "I drank this coffee while on a  mission trip to the area. It's hard to find this coffee in the states.         1\n",
       "Name: review_headline, Length: 1269550, dtype: int64"
      ]
     },
     "metadata": {},
     "execution_count": 190
    }
   ],
   "source": [
    "# Counts of reviews with same headline\n",
    "dataset['review_headline'].value_counts()"
   ]
  },
  {
   "cell_type": "code",
   "execution_count": 191,
   "metadata": {},
   "outputs": [
    {
     "output_type": "stream",
     "name": "stdout",
     "text": [
      "175162\n"
     ]
    }
   ],
   "source": [
    "# Lots of spammy duplicate reviews...might be worth checking if the same person is duplicating the reviews across multiple products\n",
    "x = dataset[dataset['review_body'].duplicated() == True]\n",
    "x.head()\n",
    "print(len(x.index))"
   ]
  },
  {
   "cell_type": "code",
   "execution_count": 192,
   "metadata": {},
   "outputs": [],
   "source": [
    "#remove NaNs from the dataset  for now...\n",
    "dataset = dataset.dropna()"
   ]
  },
  {
   "cell_type": "code",
   "execution_count": 201,
   "metadata": {},
   "outputs": [],
   "source": [
    "dataset[\"n_reviews\"] = dataset.groupby('product_id')['product_id'].transform('count')"
   ]
  },
  {
   "cell_type": "code",
   "execution_count": 202,
   "metadata": {},
   "outputs": [
    {
     "output_type": "execute_result",
     "data": {
      "text/plain": [
       "  marketplace  customer_id       review_id  product_id  product_parent  \\\n",
       "0          US     42521656  R26MV8D0KG6QI6  B000SAQCWC       159713740   \n",
       "1          US     12049833  R1OF8GP57AQ1A0  B00509LVIQ       138680402   \n",
       "2          US       107642  R3VDC1QB6MC4ZZ  B00KHXESLC       252021703   \n",
       "3          US      6042304  R12FA3DCF8F9ER  B000F8JIIC       752728342   \n",
       "4          US     18123821   RTWHVNV6X4CNJ  B004ZWR9RQ       552138758   \n",
       "\n",
       "                                                                                                                          product_title  \\\n",
       "0                                                              The Cravings Place Chocolate Chunk Cookie Mix, 23-Ounce Bags (Pack of 6)   \n",
       "1                                                                                               Mauna Loa Macadamias, 11 Ounce Packages   \n",
       "2  Organic Matcha Green Tea Powder - 100% Pure Matcha (No Sugar Added - Unsweetened Pure Green Tea - No Coloring Added Like Others) 4oz   \n",
       "3                                                                                     15oz Raspberry Lyons Designer Dessert Syrup Sauce   \n",
       "4                                                                      Stride Spark Kinetic Fruit Sugar Free Gum, 14-Count (Pack of 12)   \n",
       "\n",
       "  product_category star_rating  helpful_votes  total_votes vine  \\\n",
       "0          Grocery           5            0.0          0.0    N   \n",
       "1          Grocery           5            0.0          0.0    N   \n",
       "2          Grocery           5            0.0          0.0    N   \n",
       "3          Grocery           5            0.0          0.0    N   \n",
       "4          Grocery           5            0.0          0.0    N   \n",
       "\n",
       "  verified_purchase                     review_headline  \\\n",
       "0                 Y  Using these for years - love them.   \n",
       "1                 Y                           Wonderful   \n",
       "2                 N                          Five Stars   \n",
       "3                 Y                          Five Stars   \n",
       "4                 Y                          Five Stars   \n",
       "\n",
       "                                                                                                                                                                                                                                                                                                                                                                                                                                                                            review_body  \\\n",
       "0  As a family allergic to wheat, dairy, eggs, nuts, and several other things, we love the entire Cravings Place line of products as it allows us to bake treats with minimal effort and ingredients. Most allergy-free and gluten-free mixes usually just omit one or two allergens at most, so it's great to see a mix created without many of the most common allergens. (Note these still have soy and corn). We consume these on a regular basis and have been doing so for years.   \n",
       "1                                                                                                                                                                                                                                                                                                                                                                                           My favorite nut.  Creamy, crunchy, salty, and slightly sweet - what more could you ask for?   \n",
       "2                                                                                                                                                                                                                                                                                                                                                                                                                            This green tea tastes so good! My girlfriend loves it too.   \n",
       "3                                                                                                                                                                                                                                                                                                                                                                                                   I love Melissa's brand but this is a great second when I can't get Melissa's brand.   \n",
       "4                                                                                                                                                                                                                                                                                                                                                                                                                                                                                  good   \n",
       "\n",
       "  review_date  n_reviews  \n",
       "0  2015-08-31         12  \n",
       "1  2015-08-31        473  \n",
       "2  2015-08-31        302  \n",
       "3  2015-08-31         24  \n",
       "4  2015-08-31         17  "
      ],
      "text/html": "<div>\n<style scoped>\n    .dataframe tbody tr th:only-of-type {\n        vertical-align: middle;\n    }\n\n    .dataframe tbody tr th {\n        vertical-align: top;\n    }\n\n    .dataframe thead th {\n        text-align: right;\n    }\n</style>\n<table border=\"1\" class=\"dataframe\">\n  <thead>\n    <tr style=\"text-align: right;\">\n      <th></th>\n      <th>marketplace</th>\n      <th>customer_id</th>\n      <th>review_id</th>\n      <th>product_id</th>\n      <th>product_parent</th>\n      <th>product_title</th>\n      <th>product_category</th>\n      <th>star_rating</th>\n      <th>helpful_votes</th>\n      <th>total_votes</th>\n      <th>vine</th>\n      <th>verified_purchase</th>\n      <th>review_headline</th>\n      <th>review_body</th>\n      <th>review_date</th>\n      <th>n_reviews</th>\n    </tr>\n  </thead>\n  <tbody>\n    <tr>\n      <th>0</th>\n      <td>US</td>\n      <td>42521656</td>\n      <td>R26MV8D0KG6QI6</td>\n      <td>B000SAQCWC</td>\n      <td>159713740</td>\n      <td>The Cravings Place Chocolate Chunk Cookie Mix, 23-Ounce Bags (Pack of 6)</td>\n      <td>Grocery</td>\n      <td>5</td>\n      <td>0.0</td>\n      <td>0.0</td>\n      <td>N</td>\n      <td>Y</td>\n      <td>Using these for years - love them.</td>\n      <td>As a family allergic to wheat, dairy, eggs, nuts, and several other things, we love the entire Cravings Place line of products as it allows us to bake treats with minimal effort and ingredients. Most allergy-free and gluten-free mixes usually just omit one or two allergens at most, so it's great to see a mix created without many of the most common allergens. (Note these still have soy and corn). We consume these on a regular basis and have been doing so for years.</td>\n      <td>2015-08-31</td>\n      <td>12</td>\n    </tr>\n    <tr>\n      <th>1</th>\n      <td>US</td>\n      <td>12049833</td>\n      <td>R1OF8GP57AQ1A0</td>\n      <td>B00509LVIQ</td>\n      <td>138680402</td>\n      <td>Mauna Loa Macadamias, 11 Ounce Packages</td>\n      <td>Grocery</td>\n      <td>5</td>\n      <td>0.0</td>\n      <td>0.0</td>\n      <td>N</td>\n      <td>Y</td>\n      <td>Wonderful</td>\n      <td>My favorite nut.  Creamy, crunchy, salty, and slightly sweet - what more could you ask for?</td>\n      <td>2015-08-31</td>\n      <td>473</td>\n    </tr>\n    <tr>\n      <th>2</th>\n      <td>US</td>\n      <td>107642</td>\n      <td>R3VDC1QB6MC4ZZ</td>\n      <td>B00KHXESLC</td>\n      <td>252021703</td>\n      <td>Organic Matcha Green Tea Powder - 100% Pure Matcha (No Sugar Added - Unsweetened Pure Green Tea - No Coloring Added Like Others) 4oz</td>\n      <td>Grocery</td>\n      <td>5</td>\n      <td>0.0</td>\n      <td>0.0</td>\n      <td>N</td>\n      <td>N</td>\n      <td>Five Stars</td>\n      <td>This green tea tastes so good! My girlfriend loves it too.</td>\n      <td>2015-08-31</td>\n      <td>302</td>\n    </tr>\n    <tr>\n      <th>3</th>\n      <td>US</td>\n      <td>6042304</td>\n      <td>R12FA3DCF8F9ER</td>\n      <td>B000F8JIIC</td>\n      <td>752728342</td>\n      <td>15oz Raspberry Lyons Designer Dessert Syrup Sauce</td>\n      <td>Grocery</td>\n      <td>5</td>\n      <td>0.0</td>\n      <td>0.0</td>\n      <td>N</td>\n      <td>Y</td>\n      <td>Five Stars</td>\n      <td>I love Melissa's brand but this is a great second when I can't get Melissa's brand.</td>\n      <td>2015-08-31</td>\n      <td>24</td>\n    </tr>\n    <tr>\n      <th>4</th>\n      <td>US</td>\n      <td>18123821</td>\n      <td>RTWHVNV6X4CNJ</td>\n      <td>B004ZWR9RQ</td>\n      <td>552138758</td>\n      <td>Stride Spark Kinetic Fruit Sugar Free Gum, 14-Count (Pack of 12)</td>\n      <td>Grocery</td>\n      <td>5</td>\n      <td>0.0</td>\n      <td>0.0</td>\n      <td>N</td>\n      <td>Y</td>\n      <td>Five Stars</td>\n      <td>good</td>\n      <td>2015-08-31</td>\n      <td>17</td>\n    </tr>\n  </tbody>\n</table>\n</div>"
     },
     "metadata": {},
     "execution_count": 202
    }
   ],
   "source": [
    "dataset.head()"
   ]
  },
  {
   "cell_type": "code",
   "execution_count": 203,
   "metadata": {},
   "outputs": [],
   "source": [
    "#nltk.download('vader_lexicon')\n",
    "\n",
    "def sentiment_heuristic(row):\n",
    "    return sia.polarity_scores(row)['compound']\n"
   ]
  },
  {
   "cell_type": "code",
   "execution_count": null,
   "metadata": {},
   "outputs": [],
   "source": [
    "# This will take ages to run lol\n",
    "#dataset['sentiment_score'] = dataset[\"review_body\"].apply(sentiment_heuristic)"
   ]
  },
  {
   "cell_type": "code",
   "execution_count": 204,
   "metadata": {},
   "outputs": [
    {
     "output_type": "execute_result",
     "data": {
      "text/plain": [
       "  marketplace  customer_id       review_id  product_id  product_parent  \\\n",
       "0          US     42521656  R26MV8D0KG6QI6  B000SAQCWC       159713740   \n",
       "1          US     12049833  R1OF8GP57AQ1A0  B00509LVIQ       138680402   \n",
       "2          US       107642  R3VDC1QB6MC4ZZ  B00KHXESLC       252021703   \n",
       "3          US      6042304  R12FA3DCF8F9ER  B000F8JIIC       752728342   \n",
       "4          US     18123821   RTWHVNV6X4CNJ  B004ZWR9RQ       552138758   \n",
       "\n",
       "                                                                                                                          product_title  \\\n",
       "0                                                              The Cravings Place Chocolate Chunk Cookie Mix, 23-Ounce Bags (Pack of 6)   \n",
       "1                                                                                               Mauna Loa Macadamias, 11 Ounce Packages   \n",
       "2  Organic Matcha Green Tea Powder - 100% Pure Matcha (No Sugar Added - Unsweetened Pure Green Tea - No Coloring Added Like Others) 4oz   \n",
       "3                                                                                     15oz Raspberry Lyons Designer Dessert Syrup Sauce   \n",
       "4                                                                      Stride Spark Kinetic Fruit Sugar Free Gum, 14-Count (Pack of 12)   \n",
       "\n",
       "  product_category star_rating  helpful_votes  total_votes vine  \\\n",
       "0          Grocery           5            0.0          0.0    N   \n",
       "1          Grocery           5            0.0          0.0    N   \n",
       "2          Grocery           5            0.0          0.0    N   \n",
       "3          Grocery           5            0.0          0.0    N   \n",
       "4          Grocery           5            0.0          0.0    N   \n",
       "\n",
       "  verified_purchase                     review_headline  \\\n",
       "0                 Y  Using these for years - love them.   \n",
       "1                 Y                           Wonderful   \n",
       "2                 N                          Five Stars   \n",
       "3                 Y                          Five Stars   \n",
       "4                 Y                          Five Stars   \n",
       "\n",
       "                                                                                                                                                                                                                                                                                                                                                                                                                                                                            review_body  \\\n",
       "0  As a family allergic to wheat, dairy, eggs, nuts, and several other things, we love the entire Cravings Place line of products as it allows us to bake treats with minimal effort and ingredients. Most allergy-free and gluten-free mixes usually just omit one or two allergens at most, so it's great to see a mix created without many of the most common allergens. (Note these still have soy and corn). We consume these on a regular basis and have been doing so for years.   \n",
       "1                                                                                                                                                                                                                                                                                                                                                                                           My favorite nut.  Creamy, crunchy, salty, and slightly sweet - what more could you ask for?   \n",
       "2                                                                                                                                                                                                                                                                                                                                                                                                                            This green tea tastes so good! My girlfriend loves it too.   \n",
       "3                                                                                                                                                                                                                                                                                                                                                                                                   I love Melissa's brand but this is a great second when I can't get Melissa's brand.   \n",
       "4                                                                                                                                                                                                                                                                                                                                                                                                                                                                                  good   \n",
       "\n",
       "  review_date  n_reviews  \n",
       "0  2015-08-31         12  \n",
       "1  2015-08-31        473  \n",
       "2  2015-08-31        302  \n",
       "3  2015-08-31         24  \n",
       "4  2015-08-31         17  "
      ],
      "text/html": "<div>\n<style scoped>\n    .dataframe tbody tr th:only-of-type {\n        vertical-align: middle;\n    }\n\n    .dataframe tbody tr th {\n        vertical-align: top;\n    }\n\n    .dataframe thead th {\n        text-align: right;\n    }\n</style>\n<table border=\"1\" class=\"dataframe\">\n  <thead>\n    <tr style=\"text-align: right;\">\n      <th></th>\n      <th>marketplace</th>\n      <th>customer_id</th>\n      <th>review_id</th>\n      <th>product_id</th>\n      <th>product_parent</th>\n      <th>product_title</th>\n      <th>product_category</th>\n      <th>star_rating</th>\n      <th>helpful_votes</th>\n      <th>total_votes</th>\n      <th>vine</th>\n      <th>verified_purchase</th>\n      <th>review_headline</th>\n      <th>review_body</th>\n      <th>review_date</th>\n      <th>n_reviews</th>\n    </tr>\n  </thead>\n  <tbody>\n    <tr>\n      <th>0</th>\n      <td>US</td>\n      <td>42521656</td>\n      <td>R26MV8D0KG6QI6</td>\n      <td>B000SAQCWC</td>\n      <td>159713740</td>\n      <td>The Cravings Place Chocolate Chunk Cookie Mix, 23-Ounce Bags (Pack of 6)</td>\n      <td>Grocery</td>\n      <td>5</td>\n      <td>0.0</td>\n      <td>0.0</td>\n      <td>N</td>\n      <td>Y</td>\n      <td>Using these for years - love them.</td>\n      <td>As a family allergic to wheat, dairy, eggs, nuts, and several other things, we love the entire Cravings Place line of products as it allows us to bake treats with minimal effort and ingredients. Most allergy-free and gluten-free mixes usually just omit one or two allergens at most, so it's great to see a mix created without many of the most common allergens. (Note these still have soy and corn). We consume these on a regular basis and have been doing so for years.</td>\n      <td>2015-08-31</td>\n      <td>12</td>\n    </tr>\n    <tr>\n      <th>1</th>\n      <td>US</td>\n      <td>12049833</td>\n      <td>R1OF8GP57AQ1A0</td>\n      <td>B00509LVIQ</td>\n      <td>138680402</td>\n      <td>Mauna Loa Macadamias, 11 Ounce Packages</td>\n      <td>Grocery</td>\n      <td>5</td>\n      <td>0.0</td>\n      <td>0.0</td>\n      <td>N</td>\n      <td>Y</td>\n      <td>Wonderful</td>\n      <td>My favorite nut.  Creamy, crunchy, salty, and slightly sweet - what more could you ask for?</td>\n      <td>2015-08-31</td>\n      <td>473</td>\n    </tr>\n    <tr>\n      <th>2</th>\n      <td>US</td>\n      <td>107642</td>\n      <td>R3VDC1QB6MC4ZZ</td>\n      <td>B00KHXESLC</td>\n      <td>252021703</td>\n      <td>Organic Matcha Green Tea Powder - 100% Pure Matcha (No Sugar Added - Unsweetened Pure Green Tea - No Coloring Added Like Others) 4oz</td>\n      <td>Grocery</td>\n      <td>5</td>\n      <td>0.0</td>\n      <td>0.0</td>\n      <td>N</td>\n      <td>N</td>\n      <td>Five Stars</td>\n      <td>This green tea tastes so good! My girlfriend loves it too.</td>\n      <td>2015-08-31</td>\n      <td>302</td>\n    </tr>\n    <tr>\n      <th>3</th>\n      <td>US</td>\n      <td>6042304</td>\n      <td>R12FA3DCF8F9ER</td>\n      <td>B000F8JIIC</td>\n      <td>752728342</td>\n      <td>15oz Raspberry Lyons Designer Dessert Syrup Sauce</td>\n      <td>Grocery</td>\n      <td>5</td>\n      <td>0.0</td>\n      <td>0.0</td>\n      <td>N</td>\n      <td>Y</td>\n      <td>Five Stars</td>\n      <td>I love Melissa's brand but this is a great second when I can't get Melissa's brand.</td>\n      <td>2015-08-31</td>\n      <td>24</td>\n    </tr>\n    <tr>\n      <th>4</th>\n      <td>US</td>\n      <td>18123821</td>\n      <td>RTWHVNV6X4CNJ</td>\n      <td>B004ZWR9RQ</td>\n      <td>552138758</td>\n      <td>Stride Spark Kinetic Fruit Sugar Free Gum, 14-Count (Pack of 12)</td>\n      <td>Grocery</td>\n      <td>5</td>\n      <td>0.0</td>\n      <td>0.0</td>\n      <td>N</td>\n      <td>Y</td>\n      <td>Five Stars</td>\n      <td>good</td>\n      <td>2015-08-31</td>\n      <td>17</td>\n    </tr>\n  </tbody>\n</table>\n</div>"
     },
     "metadata": {},
     "execution_count": 204
    }
   ],
   "source": [
    "dataset.head()"
   ]
  },
  {
   "cell_type": "code",
   "execution_count": 205,
   "metadata": {},
   "outputs": [],
   "source": [
    "\n",
    "def filter_bad_star(row):\n",
    "    '''\n",
    "    determine if a row is a negative review based on its score. Potentially extend it to include sentiment analysis \n",
    "    and presence of specific negative words \n",
    "    '''\n",
    "    return row[\"star_rating\"].astype(int) <=3\n",
    "\n",
    "def filter_good_star(row):\n",
    "    '''\n",
    "    determine if a row is a positive review based on its score.\n",
    "    '''\n",
    "    return row[\"star_rating\"].astype(int) > 3"
   ]
  },
  {
   "cell_type": "code",
   "execution_count": 221,
   "metadata": {},
   "outputs": [
    {
     "output_type": "execute_result",
     "data": {
      "text/plain": [
       "445115"
      ]
     },
     "metadata": {},
     "execution_count": 221
    }
   ],
   "source": [
    "negative_rows = dataset.loc[filter_bad_star]\n",
    "negative_rows.head()\n",
    "len(negative_rows.index)"
   ]
  },
  {
   "cell_type": "code",
   "execution_count": 222,
   "metadata": {},
   "outputs": [
    {
     "output_type": "execute_result",
     "data": {
      "text/plain": [
       "   marketplace  customer_id       review_id  product_id  product_parent  \\\n",
       "5           US     23649464   RIG9AWFOGRDVO  B00AL6QBZ6       681475449   \n",
       "9           US     19624355  R1ODXB3C9UP3NL  B00J074W94         2499702   \n",
       "17          US     22765168  R3T6TTD2IN0EFZ  B00XDXMLL2       971154239   \n",
       "23          US     35636887   R9MISLBRG08FX  B00DBSFXUA       294404974   \n",
       "26          US     12650237  R2A9O8CWZ1PP74  B0083GJKR2       868929824   \n",
       "\n",
       "                                                        product_title  \\\n",
       "5                         Herr's Popcorn Hot Cheese 1 Oz (Pack of 30)   \n",
       "9       Orgain Organic Plant Based Protein Powder, Packaging May Vary   \n",
       "17  Skippy Creamy Peanut Butter, with Salted Caramel 15oz (Pack of 4)   \n",
       "23                        Keebler Town House Pita Crackers, 9.5 Ounce   \n",
       "26                Eclipse Sugar Free Gum, Spearmint, 120 Piece Bottle   \n",
       "\n",
       "   product_category star_rating  helpful_votes  total_votes vine  \\\n",
       "5           Grocery           2            1.0          1.0    N   \n",
       "9           Grocery           1            1.0          3.0    N   \n",
       "17          Grocery           1            4.0          4.0    N   \n",
       "23          Grocery           1            0.0          0.0    N   \n",
       "26          Grocery           3            0.0          0.0    N   \n",
       "\n",
       "   verified_purchase                                    review_headline  \\\n",
       "5                  Y                                          Not Happy   \n",
       "9                  N          Disgusting now and difficult on digestion   \n",
       "17                 N  1 Out Of 5 Of My Co-Workers Thought It Was \"Okay\"   \n",
       "23                 Y                                      pita crackers   \n",
       "26                 Y                                        Three Stars   \n",
       "\n",
       "                                                                                                                                                                                                                                                                                                                                                                                                                                                                                                                                                                                                                                                                                                                                                                                                                                                                                                                                           review_body  \\\n",
       "5                                                                                                                                                                                                                                                                                                                                                                                                                                                                                                                                                                                                                                                                                                                                                                                                                                                                                                                               The popcorn was stale.   \n",
       "9                                                                                                                                                                                                                                                                                                                                                                                                                                                                                                                                                                                                                                                Used to be a decent product.  Disgusting now and difficult on digestion.  All 3 purchased from Costco over past couple months end in same result -- open the container and it smells like rancid oil.  Something not right about how they are making/processing this powder now.  Will not buy again.   \n",
       "17  I bought this from a local super market on a whim and decided to let people know how it tastes. I'm a huge fan of peanut butter and salted caramel.<br /><br />For instance, I had a Salted Caramel and Almond Kind Bar today and it was amazing. It tasted like you would expect it to taste.<br /><br />However, this particular product tastes like a chemical spill. It starts off with a peanut butter taste, but then the (caramel I'm guessing) tastes kind of burnt and chemical-like, and then it finishes with a very salty burnt taste.<br /><br />I had some on a spoon and disliked it, then I put some on pretzel bread and it was slightly palatable, but overall I would avoid this product as it doesn't really taste like salted caramel peanut butter.<br /><br />Just for fun, I let my co-workers taste it and only 1 out of 5 of them thought that this product tasted &#34;okay&#34;. The rest of them shared my sentiment.   \n",
       "23                                                                                                                                                                                                                                                                                                                                                                                                                                                                                                                                                                                                                                                                                                                                                                                                                      not craze about these. nothing really wrong with them just no into them. These crackers are small so not much room for cheese.   \n",
       "26                                                                                                                                                                                                                                                                                                                                                                                                                                                                                                                                                                                                                                                                                                                                                                                                                                                                                                                                          it's gum..   \n",
       "\n",
       "   review_date  n_reviews  \n",
       "5   2015-08-31          8  \n",
       "9   2015-08-31        522  \n",
       "17  2015-08-31          6  \n",
       "23  2015-08-31        107  \n",
       "26  2015-08-31         25  "
      ],
      "text/html": "<div>\n<style scoped>\n    .dataframe tbody tr th:only-of-type {\n        vertical-align: middle;\n    }\n\n    .dataframe tbody tr th {\n        vertical-align: top;\n    }\n\n    .dataframe thead th {\n        text-align: right;\n    }\n</style>\n<table border=\"1\" class=\"dataframe\">\n  <thead>\n    <tr style=\"text-align: right;\">\n      <th></th>\n      <th>marketplace</th>\n      <th>customer_id</th>\n      <th>review_id</th>\n      <th>product_id</th>\n      <th>product_parent</th>\n      <th>product_title</th>\n      <th>product_category</th>\n      <th>star_rating</th>\n      <th>helpful_votes</th>\n      <th>total_votes</th>\n      <th>vine</th>\n      <th>verified_purchase</th>\n      <th>review_headline</th>\n      <th>review_body</th>\n      <th>review_date</th>\n      <th>n_reviews</th>\n    </tr>\n  </thead>\n  <tbody>\n    <tr>\n      <th>5</th>\n      <td>US</td>\n      <td>23649464</td>\n      <td>RIG9AWFOGRDVO</td>\n      <td>B00AL6QBZ6</td>\n      <td>681475449</td>\n      <td>Herr's Popcorn Hot Cheese 1 Oz (Pack of 30)</td>\n      <td>Grocery</td>\n      <td>2</td>\n      <td>1.0</td>\n      <td>1.0</td>\n      <td>N</td>\n      <td>Y</td>\n      <td>Not Happy</td>\n      <td>The popcorn was stale.</td>\n      <td>2015-08-31</td>\n      <td>8</td>\n    </tr>\n    <tr>\n      <th>9</th>\n      <td>US</td>\n      <td>19624355</td>\n      <td>R1ODXB3C9UP3NL</td>\n      <td>B00J074W94</td>\n      <td>2499702</td>\n      <td>Orgain Organic Plant Based Protein Powder, Packaging May Vary</td>\n      <td>Grocery</td>\n      <td>1</td>\n      <td>1.0</td>\n      <td>3.0</td>\n      <td>N</td>\n      <td>N</td>\n      <td>Disgusting now and difficult on digestion</td>\n      <td>Used to be a decent product.  Disgusting now and difficult on digestion.  All 3 purchased from Costco over past couple months end in same result -- open the container and it smells like rancid oil.  Something not right about how they are making/processing this powder now.  Will not buy again.</td>\n      <td>2015-08-31</td>\n      <td>522</td>\n    </tr>\n    <tr>\n      <th>17</th>\n      <td>US</td>\n      <td>22765168</td>\n      <td>R3T6TTD2IN0EFZ</td>\n      <td>B00XDXMLL2</td>\n      <td>971154239</td>\n      <td>Skippy Creamy Peanut Butter, with Salted Caramel 15oz (Pack of 4)</td>\n      <td>Grocery</td>\n      <td>1</td>\n      <td>4.0</td>\n      <td>4.0</td>\n      <td>N</td>\n      <td>N</td>\n      <td>1 Out Of 5 Of My Co-Workers Thought It Was \"Okay\"</td>\n      <td>I bought this from a local super market on a whim and decided to let people know how it tastes. I'm a huge fan of peanut butter and salted caramel.&lt;br /&gt;&lt;br /&gt;For instance, I had a Salted Caramel and Almond Kind Bar today and it was amazing. It tasted like you would expect it to taste.&lt;br /&gt;&lt;br /&gt;However, this particular product tastes like a chemical spill. It starts off with a peanut butter taste, but then the (caramel I'm guessing) tastes kind of burnt and chemical-like, and then it finishes with a very salty burnt taste.&lt;br /&gt;&lt;br /&gt;I had some on a spoon and disliked it, then I put some on pretzel bread and it was slightly palatable, but overall I would avoid this product as it doesn't really taste like salted caramel peanut butter.&lt;br /&gt;&lt;br /&gt;Just for fun, I let my co-workers taste it and only 1 out of 5 of them thought that this product tasted &amp;#34;okay&amp;#34;. The rest of them shared my sentiment.</td>\n      <td>2015-08-31</td>\n      <td>6</td>\n    </tr>\n    <tr>\n      <th>23</th>\n      <td>US</td>\n      <td>35636887</td>\n      <td>R9MISLBRG08FX</td>\n      <td>B00DBSFXUA</td>\n      <td>294404974</td>\n      <td>Keebler Town House Pita Crackers, 9.5 Ounce</td>\n      <td>Grocery</td>\n      <td>1</td>\n      <td>0.0</td>\n      <td>0.0</td>\n      <td>N</td>\n      <td>Y</td>\n      <td>pita crackers</td>\n      <td>not craze about these. nothing really wrong with them just no into them. These crackers are small so not much room for cheese.</td>\n      <td>2015-08-31</td>\n      <td>107</td>\n    </tr>\n    <tr>\n      <th>26</th>\n      <td>US</td>\n      <td>12650237</td>\n      <td>R2A9O8CWZ1PP74</td>\n      <td>B0083GJKR2</td>\n      <td>868929824</td>\n      <td>Eclipse Sugar Free Gum, Spearmint, 120 Piece Bottle</td>\n      <td>Grocery</td>\n      <td>3</td>\n      <td>0.0</td>\n      <td>0.0</td>\n      <td>N</td>\n      <td>Y</td>\n      <td>Three Stars</td>\n      <td>it's gum..</td>\n      <td>2015-08-31</td>\n      <td>25</td>\n    </tr>\n  </tbody>\n</table>\n</div>"
     },
     "metadata": {},
     "execution_count": 222
    }
   ],
   "source": [
    "negative_rows.head()"
   ]
  },
  {
   "cell_type": "code",
   "execution_count": 223,
   "metadata": {},
   "outputs": [
    {
     "output_type": "execute_result",
     "data": {
      "text/plain": [
       "1948123"
      ]
     },
     "metadata": {},
     "execution_count": 223
    }
   ],
   "source": [
    "positive_rows = dataset.loc[filter_good_star]\n",
    "positive_rows.head()\n",
    "len(positive_rows.index)"
   ]
  },
  {
   "cell_type": "code",
   "execution_count": 224,
   "metadata": {},
   "outputs": [],
   "source": [
    "bad_words = [\n",
    "    \"stinky\",\n",
    "    \"stank\"\n",
    "    \"moldy\",\n",
    "    \"mouldy\",\n",
    "    \"rotted\",\n",
    "    \"rotten\",\n",
    "    \"stale\"\n",
    "    \"stinking\",\n",
    "    \"icky\",\n",
    "    \"curdled\",\n",
    "    \"danger\",\n",
    "    \"dangerous\",\n",
    "    \"ammonia\",\n",
    "    \"unsafe\",\n",
    "    \"avoid\"\n",
    "    \"sick\"\n",
    "]\n",
    "\n",
    "def filter_bad_words(row):\n",
    "    '''\n",
    "    determine if a row is a negative review based on its words.\n",
    "    '''\n",
    "    return row[\"review_headline\"].str.contains(\"\\\\b(%s)\\\\b\" % '|'.join(bad_words))\n"
   ]
  },
  {
   "cell_type": "code",
   "execution_count": 225,
   "metadata": {},
   "outputs": [
    {
     "output_type": "execute_result",
     "data": {
      "text/plain": [
       "379"
      ]
     },
     "metadata": {},
     "execution_count": 225
    }
   ],
   "source": [
    "negative_rows = negative_rows.loc[filter_bad_words]\n",
    "len(negative_rows.index)"
   ]
  },
  {
   "cell_type": "code",
   "execution_count": 226,
   "metadata": {},
   "outputs": [],
   "source": [
    "negative_rows['sentiment_score'] = negative_rows[\"review_body\"].apply(sentiment_heuristic)"
   ]
  },
  {
   "cell_type": "code",
   "execution_count": 227,
   "metadata": {},
   "outputs": [
    {
     "output_type": "execute_result",
     "data": {
      "text/plain": [
       "      marketplace  customer_id       review_id  product_id  product_parent  \\\n",
       "8911           US     37307498   RZP5EWKOBX5KH  B009L9TMBY       696947556   \n",
       "22258          US     47973491  R1NOLST0E8IATT  B0036ZIF9Y       923729241   \n",
       "35555          US     30293525  R1FRDE0OIA546B  B00TCOAXR0       915238907   \n",
       "36783          US     50106447  R2KIR9GSCGNQI6  B002N723Q2       479009963   \n",
       "54550          US     22365141   RGSXU84MSLDY7  B006GL6N9E       776164341   \n",
       "\n",
       "                                     product_title product_category  \\\n",
       "8911                   Deluxe Mixed Nuts Raw, 2Lbs          Grocery   \n",
       "22258  Gemlik Type Black Olives LUX – 1.1lb (500g)          Grocery   \n",
       "35555            Chung Jung One Anchovy Sauce Blue          Grocery   \n",
       "36783       Numi Organic Black Tea, Loose Leaf Tea          Grocery   \n",
       "54550    Fruit Basket Delight with Cheese and Nuts          Grocery   \n",
       "\n",
       "      star_rating  helpful_votes  total_votes vine verified_purchase  \\\n",
       "8911            2            1.0          1.0    N                 Y   \n",
       "22258           1            2.0          2.0    N                 Y   \n",
       "35555           1            3.0          9.0    N                 Y   \n",
       "36783           1            1.0          3.0    N                 Y   \n",
       "54550           2            0.0          0.0    N                 Y   \n",
       "\n",
       "                                             review_headline  \\\n",
       "8911                               Ixnay on the rotten nuts.   \n",
       "22258                Mine were rotten and tasted horrible...   \n",
       "35555  .It tastes like it was made with rotted anchovies....   \n",
       "36783                     Good taste, but with rotten flavor   \n",
       "54550                                           rotten fruit   \n",
       "\n",
       "                                                                                                                                                                                                                                                                                                                                                                                                                                              review_body  \\\n",
       "8911                                                                                                                                                                                                                                                                                                                                                                                              Probably would have been good, but my nuts were rancid.   \n",
       "22258  I am Turkish and I've never had any problems with Marmarabirlik olives in my whole life.  HOWEVER, this is the first time I've ordered them online and I have to say there were the worst olives I've ever tasted.  They were rotten!  My Mom even commented that these olives are bad.  Maybe I got a bad batch because this company makes one of the very best Turkish olives on the market.  I'm extremely disappointed with this online order.   \n",
       "35555                                                                                                                                                       The taste is okay....Nothing spectacular....It tastes like it was made with rotted anchovies....<br />The main problem: I braised something using this sauce and my apartment stunk like rotted fish for days....<br />The cheap plastic bottle does not make this product more enticing.....   \n",
       "36783                                                                                                                                                                              Good taste, but absolutely no flavor, both dry and brewed. Contacted Numi Customer Service. Got careless response, They sent me a couple of tea bags which were much worse than the loose Emperor's Puerh tea. After a month or so it smells rotten. Still taste is OK   \n",
       "54550                                                                                                                                                                                                                                                                                                                                                           I sent this to my Mom for Mothers Day and the fruit was rotten! It made me feel terrible.   \n",
       "\n",
       "      review_date  n_reviews  sentiment_score  \n",
       "8911   2015-08-28         20          -0.7750  \n",
       "22258  2015-08-24          7          -0.9069  \n",
       "35555  2015-08-19          3          -0.0772  \n",
       "36783  2015-08-19         15          -0.9272  \n",
       "54550  2015-08-12        159          -0.7712  "
      ],
      "text/html": "<div>\n<style scoped>\n    .dataframe tbody tr th:only-of-type {\n        vertical-align: middle;\n    }\n\n    .dataframe tbody tr th {\n        vertical-align: top;\n    }\n\n    .dataframe thead th {\n        text-align: right;\n    }\n</style>\n<table border=\"1\" class=\"dataframe\">\n  <thead>\n    <tr style=\"text-align: right;\">\n      <th></th>\n      <th>marketplace</th>\n      <th>customer_id</th>\n      <th>review_id</th>\n      <th>product_id</th>\n      <th>product_parent</th>\n      <th>product_title</th>\n      <th>product_category</th>\n      <th>star_rating</th>\n      <th>helpful_votes</th>\n      <th>total_votes</th>\n      <th>vine</th>\n      <th>verified_purchase</th>\n      <th>review_headline</th>\n      <th>review_body</th>\n      <th>review_date</th>\n      <th>n_reviews</th>\n      <th>sentiment_score</th>\n    </tr>\n  </thead>\n  <tbody>\n    <tr>\n      <th>8911</th>\n      <td>US</td>\n      <td>37307498</td>\n      <td>RZP5EWKOBX5KH</td>\n      <td>B009L9TMBY</td>\n      <td>696947556</td>\n      <td>Deluxe Mixed Nuts Raw, 2Lbs</td>\n      <td>Grocery</td>\n      <td>2</td>\n      <td>1.0</td>\n      <td>1.0</td>\n      <td>N</td>\n      <td>Y</td>\n      <td>Ixnay on the rotten nuts.</td>\n      <td>Probably would have been good, but my nuts were rancid.</td>\n      <td>2015-08-28</td>\n      <td>20</td>\n      <td>-0.7750</td>\n    </tr>\n    <tr>\n      <th>22258</th>\n      <td>US</td>\n      <td>47973491</td>\n      <td>R1NOLST0E8IATT</td>\n      <td>B0036ZIF9Y</td>\n      <td>923729241</td>\n      <td>Gemlik Type Black Olives LUX – 1.1lb (500g)</td>\n      <td>Grocery</td>\n      <td>1</td>\n      <td>2.0</td>\n      <td>2.0</td>\n      <td>N</td>\n      <td>Y</td>\n      <td>Mine were rotten and tasted horrible...</td>\n      <td>I am Turkish and I've never had any problems with Marmarabirlik olives in my whole life.  HOWEVER, this is the first time I've ordered them online and I have to say there were the worst olives I've ever tasted.  They were rotten!  My Mom even commented that these olives are bad.  Maybe I got a bad batch because this company makes one of the very best Turkish olives on the market.  I'm extremely disappointed with this online order.</td>\n      <td>2015-08-24</td>\n      <td>7</td>\n      <td>-0.9069</td>\n    </tr>\n    <tr>\n      <th>35555</th>\n      <td>US</td>\n      <td>30293525</td>\n      <td>R1FRDE0OIA546B</td>\n      <td>B00TCOAXR0</td>\n      <td>915238907</td>\n      <td>Chung Jung One Anchovy Sauce Blue</td>\n      <td>Grocery</td>\n      <td>1</td>\n      <td>3.0</td>\n      <td>9.0</td>\n      <td>N</td>\n      <td>Y</td>\n      <td>.It tastes like it was made with rotted anchovies....</td>\n      <td>The taste is okay....Nothing spectacular....It tastes like it was made with rotted anchovies....&lt;br /&gt;The main problem: I braised something using this sauce and my apartment stunk like rotted fish for days....&lt;br /&gt;The cheap plastic bottle does not make this product more enticing.....</td>\n      <td>2015-08-19</td>\n      <td>3</td>\n      <td>-0.0772</td>\n    </tr>\n    <tr>\n      <th>36783</th>\n      <td>US</td>\n      <td>50106447</td>\n      <td>R2KIR9GSCGNQI6</td>\n      <td>B002N723Q2</td>\n      <td>479009963</td>\n      <td>Numi Organic Black Tea, Loose Leaf Tea</td>\n      <td>Grocery</td>\n      <td>1</td>\n      <td>1.0</td>\n      <td>3.0</td>\n      <td>N</td>\n      <td>Y</td>\n      <td>Good taste, but with rotten flavor</td>\n      <td>Good taste, but absolutely no flavor, both dry and brewed. Contacted Numi Customer Service. Got careless response, They sent me a couple of tea bags which were much worse than the loose Emperor's Puerh tea. After a month or so it smells rotten. Still taste is OK</td>\n      <td>2015-08-19</td>\n      <td>15</td>\n      <td>-0.9272</td>\n    </tr>\n    <tr>\n      <th>54550</th>\n      <td>US</td>\n      <td>22365141</td>\n      <td>RGSXU84MSLDY7</td>\n      <td>B006GL6N9E</td>\n      <td>776164341</td>\n      <td>Fruit Basket Delight with Cheese and Nuts</td>\n      <td>Grocery</td>\n      <td>2</td>\n      <td>0.0</td>\n      <td>0.0</td>\n      <td>N</td>\n      <td>Y</td>\n      <td>rotten fruit</td>\n      <td>I sent this to my Mom for Mothers Day and the fruit was rotten! It made me feel terrible.</td>\n      <td>2015-08-12</td>\n      <td>159</td>\n      <td>-0.7712</td>\n    </tr>\n  </tbody>\n</table>\n</div>"
     },
     "metadata": {},
     "execution_count": 227
    }
   ],
   "source": [
    "negative_rows.head()"
   ]
  },
  {
   "cell_type": "code",
   "execution_count": 232,
   "metadata": {},
   "outputs": [],
   "source": [
    "negative_rows = negative_rows[negative_rows['sentiment_score'] < 0]"
   ]
  },
  {
   "cell_type": "code",
   "execution_count": 233,
   "metadata": {},
   "outputs": [
    {
     "output_type": "execute_result",
     "data": {
      "text/plain": [
       "      marketplace  customer_id       review_id  product_id  product_parent  \\\n",
       "8911           US     37307498   RZP5EWKOBX5KH  B009L9TMBY       696947556   \n",
       "22258          US     47973491  R1NOLST0E8IATT  B0036ZIF9Y       923729241   \n",
       "35555          US     30293525  R1FRDE0OIA546B  B00TCOAXR0       915238907   \n",
       "36783          US     50106447  R2KIR9GSCGNQI6  B002N723Q2       479009963   \n",
       "54550          US     22365141   RGSXU84MSLDY7  B006GL6N9E       776164341   \n",
       "61021          US     14391210   RMC6ESIHDJHO8  B009XRHRZC       756206582   \n",
       "70811          US     13861214  R1X6047VQJ7JQ7  B00T77QT5M       290213412   \n",
       "81129          US     13403681  R1AY63RMD0KFBT  B00SHR75HO       697739221   \n",
       "\n",
       "                                                       product_title  \\\n",
       "8911                                     Deluxe Mixed Nuts Raw, 2Lbs   \n",
       "22258                    Gemlik Type Black Olives LUX – 1.1lb (500g)   \n",
       "35555                              Chung Jung One Anchovy Sauce Blue   \n",
       "36783                         Numi Organic Black Tea, Loose Leaf Tea   \n",
       "54550                      Fruit Basket Delight with Cheese and Nuts   \n",
       "61021  Dutch Soft Licorice Clogs-(Klompjes Drop)-GLUTEN FREE-4oz bag   \n",
       "70811      Barnana Organic Chewy Banana Bites Variety Pack, 12 Count   \n",
       "81129     Just Add Coffee Protein Creamer - Nonfat & No Added Sugar.   \n",
       "\n",
       "      product_category star_rating  helpful_votes  total_votes vine  \\\n",
       "8911           Grocery           2            1.0          1.0    N   \n",
       "22258          Grocery           1            2.0          2.0    N   \n",
       "35555          Grocery           1            3.0          9.0    N   \n",
       "36783          Grocery           1            1.0          3.0    N   \n",
       "54550          Grocery           2            0.0          0.0    N   \n",
       "61021          Grocery           1            0.0          0.0    N   \n",
       "70811          Grocery           1            0.0          2.0    N   \n",
       "81129          Grocery           2            1.0          1.0    N   \n",
       "\n",
       "      verified_purchase  \\\n",
       "8911                  Y   \n",
       "22258                 Y   \n",
       "35555                 Y   \n",
       "36783                 Y   \n",
       "54550                 Y   \n",
       "61021                 Y   \n",
       "70811                 Y   \n",
       "81129                 Y   \n",
       "\n",
       "                                                          review_headline  \\\n",
       "8911                                            Ixnay on the rotten nuts.   \n",
       "22258                             Mine were rotten and tasted horrible...   \n",
       "35555               .It tastes like it was made with rotted anchovies....   \n",
       "36783                                  Good taste, but with rotten flavor   \n",
       "54550                                                        rotten fruit   \n",
       "61021  sort of like eating some Brie cheeses that waft ammonia up the ...   \n",
       "70811                               These taste like rotten moldy bananas   \n",
       "81129                   I didn't mind the taste but It curdled when i ...   \n",
       "\n",
       "                                                                                                                                                                                                                                                                                                                                                                                                                                              review_body  \\\n",
       "8911                                                                                                                                                                                                                                                                                                                                                                                              Probably would have been good, but my nuts were rancid.   \n",
       "22258  I am Turkish and I've never had any problems with Marmarabirlik olives in my whole life.  HOWEVER, this is the first time I've ordered them online and I have to say there were the worst olives I've ever tasted.  They were rotten!  My Mom even commented that these olives are bad.  Maybe I got a bad batch because this company makes one of the very best Turkish olives on the market.  I'm extremely disappointed with this online order.   \n",
       "35555                                                                                                                                                       The taste is okay....Nothing spectacular....It tastes like it was made with rotted anchovies....<br />The main problem: I braised something using this sauce and my apartment stunk like rotted fish for days....<br />The cheap plastic bottle does not make this product more enticing.....   \n",
       "36783                                                                                                                                                                              Good taste, but absolutely no flavor, both dry and brewed. Contacted Numi Customer Service. Got careless response, They sent me a couple of tea bags which were much worse than the loose Emperor's Puerh tea. After a month or so it smells rotten. Still taste is OK   \n",
       "54550                                                                                                                                                                                                                                                                                                                                                           I sent this to my Mom for Mothers Day and the fruit was rotten! It made me feel terrible.   \n",
       "61021                                                                                                         I can taste an ammonia after taste with this licorice. So, so gross, sort of like eating some Brie cheeses that waft ammonia up the sinuses. I am so disappointed because it is difficult to find gluten free licorice (black is real, the red stuff is just candy).  The one shaped like cats is thinner and did NOT have that aftertaste.   \n",
       "70811                                                                                                                                                             These taste like rotten moldy bananas. I  was trying to find a product that came close to the banana chunks that the Philippine brand made since I can't seem to find them anymore, but these aren't even edible much less comparible.<br />Unfortunately it won't let me give no star.   \n",
       "81129                                                                                                                                                                                                                                                                          I didn't mind the taste but It curdled when i mixed it with my coffee, so gross!  The expiration date was for a year from now so not sure what is in this but I will pass.   \n",
       "\n",
       "      review_date  n_reviews  sentiment_score  \n",
       "8911   2015-08-28         20          -0.7750  \n",
       "22258  2015-08-24          7          -0.9069  \n",
       "35555  2015-08-19          3          -0.0772  \n",
       "36783  2015-08-19         15          -0.9272  \n",
       "54550  2015-08-12        159          -0.7712  \n",
       "61021  2015-08-10          1          -0.5470  \n",
       "70811  2015-08-07          3          -0.4939  \n",
       "81129  2015-08-04         14          -0.8638  "
      ],
      "text/html": "<div>\n<style scoped>\n    .dataframe tbody tr th:only-of-type {\n        vertical-align: middle;\n    }\n\n    .dataframe tbody tr th {\n        vertical-align: top;\n    }\n\n    .dataframe thead th {\n        text-align: right;\n    }\n</style>\n<table border=\"1\" class=\"dataframe\">\n  <thead>\n    <tr style=\"text-align: right;\">\n      <th></th>\n      <th>marketplace</th>\n      <th>customer_id</th>\n      <th>review_id</th>\n      <th>product_id</th>\n      <th>product_parent</th>\n      <th>product_title</th>\n      <th>product_category</th>\n      <th>star_rating</th>\n      <th>helpful_votes</th>\n      <th>total_votes</th>\n      <th>vine</th>\n      <th>verified_purchase</th>\n      <th>review_headline</th>\n      <th>review_body</th>\n      <th>review_date</th>\n      <th>n_reviews</th>\n      <th>sentiment_score</th>\n    </tr>\n  </thead>\n  <tbody>\n    <tr>\n      <th>8911</th>\n      <td>US</td>\n      <td>37307498</td>\n      <td>RZP5EWKOBX5KH</td>\n      <td>B009L9TMBY</td>\n      <td>696947556</td>\n      <td>Deluxe Mixed Nuts Raw, 2Lbs</td>\n      <td>Grocery</td>\n      <td>2</td>\n      <td>1.0</td>\n      <td>1.0</td>\n      <td>N</td>\n      <td>Y</td>\n      <td>Ixnay on the rotten nuts.</td>\n      <td>Probably would have been good, but my nuts were rancid.</td>\n      <td>2015-08-28</td>\n      <td>20</td>\n      <td>-0.7750</td>\n    </tr>\n    <tr>\n      <th>22258</th>\n      <td>US</td>\n      <td>47973491</td>\n      <td>R1NOLST0E8IATT</td>\n      <td>B0036ZIF9Y</td>\n      <td>923729241</td>\n      <td>Gemlik Type Black Olives LUX – 1.1lb (500g)</td>\n      <td>Grocery</td>\n      <td>1</td>\n      <td>2.0</td>\n      <td>2.0</td>\n      <td>N</td>\n      <td>Y</td>\n      <td>Mine were rotten and tasted horrible...</td>\n      <td>I am Turkish and I've never had any problems with Marmarabirlik olives in my whole life.  HOWEVER, this is the first time I've ordered them online and I have to say there were the worst olives I've ever tasted.  They were rotten!  My Mom even commented that these olives are bad.  Maybe I got a bad batch because this company makes one of the very best Turkish olives on the market.  I'm extremely disappointed with this online order.</td>\n      <td>2015-08-24</td>\n      <td>7</td>\n      <td>-0.9069</td>\n    </tr>\n    <tr>\n      <th>35555</th>\n      <td>US</td>\n      <td>30293525</td>\n      <td>R1FRDE0OIA546B</td>\n      <td>B00TCOAXR0</td>\n      <td>915238907</td>\n      <td>Chung Jung One Anchovy Sauce Blue</td>\n      <td>Grocery</td>\n      <td>1</td>\n      <td>3.0</td>\n      <td>9.0</td>\n      <td>N</td>\n      <td>Y</td>\n      <td>.It tastes like it was made with rotted anchovies....</td>\n      <td>The taste is okay....Nothing spectacular....It tastes like it was made with rotted anchovies....&lt;br /&gt;The main problem: I braised something using this sauce and my apartment stunk like rotted fish for days....&lt;br /&gt;The cheap plastic bottle does not make this product more enticing.....</td>\n      <td>2015-08-19</td>\n      <td>3</td>\n      <td>-0.0772</td>\n    </tr>\n    <tr>\n      <th>36783</th>\n      <td>US</td>\n      <td>50106447</td>\n      <td>R2KIR9GSCGNQI6</td>\n      <td>B002N723Q2</td>\n      <td>479009963</td>\n      <td>Numi Organic Black Tea, Loose Leaf Tea</td>\n      <td>Grocery</td>\n      <td>1</td>\n      <td>1.0</td>\n      <td>3.0</td>\n      <td>N</td>\n      <td>Y</td>\n      <td>Good taste, but with rotten flavor</td>\n      <td>Good taste, but absolutely no flavor, both dry and brewed. Contacted Numi Customer Service. Got careless response, They sent me a couple of tea bags which were much worse than the loose Emperor's Puerh tea. After a month or so it smells rotten. Still taste is OK</td>\n      <td>2015-08-19</td>\n      <td>15</td>\n      <td>-0.9272</td>\n    </tr>\n    <tr>\n      <th>54550</th>\n      <td>US</td>\n      <td>22365141</td>\n      <td>RGSXU84MSLDY7</td>\n      <td>B006GL6N9E</td>\n      <td>776164341</td>\n      <td>Fruit Basket Delight with Cheese and Nuts</td>\n      <td>Grocery</td>\n      <td>2</td>\n      <td>0.0</td>\n      <td>0.0</td>\n      <td>N</td>\n      <td>Y</td>\n      <td>rotten fruit</td>\n      <td>I sent this to my Mom for Mothers Day and the fruit was rotten! It made me feel terrible.</td>\n      <td>2015-08-12</td>\n      <td>159</td>\n      <td>-0.7712</td>\n    </tr>\n    <tr>\n      <th>61021</th>\n      <td>US</td>\n      <td>14391210</td>\n      <td>RMC6ESIHDJHO8</td>\n      <td>B009XRHRZC</td>\n      <td>756206582</td>\n      <td>Dutch Soft Licorice Clogs-(Klompjes Drop)-GLUTEN FREE-4oz bag</td>\n      <td>Grocery</td>\n      <td>1</td>\n      <td>0.0</td>\n      <td>0.0</td>\n      <td>N</td>\n      <td>Y</td>\n      <td>sort of like eating some Brie cheeses that waft ammonia up the ...</td>\n      <td>I can taste an ammonia after taste with this licorice. So, so gross, sort of like eating some Brie cheeses that waft ammonia up the sinuses. I am so disappointed because it is difficult to find gluten free licorice (black is real, the red stuff is just candy).  The one shaped like cats is thinner and did NOT have that aftertaste.</td>\n      <td>2015-08-10</td>\n      <td>1</td>\n      <td>-0.5470</td>\n    </tr>\n    <tr>\n      <th>70811</th>\n      <td>US</td>\n      <td>13861214</td>\n      <td>R1X6047VQJ7JQ7</td>\n      <td>B00T77QT5M</td>\n      <td>290213412</td>\n      <td>Barnana Organic Chewy Banana Bites Variety Pack, 12 Count</td>\n      <td>Grocery</td>\n      <td>1</td>\n      <td>0.0</td>\n      <td>2.0</td>\n      <td>N</td>\n      <td>Y</td>\n      <td>These taste like rotten moldy bananas</td>\n      <td>These taste like rotten moldy bananas. I  was trying to find a product that came close to the banana chunks that the Philippine brand made since I can't seem to find them anymore, but these aren't even edible much less comparible.&lt;br /&gt;Unfortunately it won't let me give no star.</td>\n      <td>2015-08-07</td>\n      <td>3</td>\n      <td>-0.4939</td>\n    </tr>\n    <tr>\n      <th>81129</th>\n      <td>US</td>\n      <td>13403681</td>\n      <td>R1AY63RMD0KFBT</td>\n      <td>B00SHR75HO</td>\n      <td>697739221</td>\n      <td>Just Add Coffee Protein Creamer - Nonfat &amp; No Added Sugar.</td>\n      <td>Grocery</td>\n      <td>2</td>\n      <td>1.0</td>\n      <td>1.0</td>\n      <td>N</td>\n      <td>Y</td>\n      <td>I didn't mind the taste but It curdled when i ...</td>\n      <td>I didn't mind the taste but It curdled when i mixed it with my coffee, so gross!  The expiration date was for a year from now so not sure what is in this but I will pass.</td>\n      <td>2015-08-04</td>\n      <td>14</td>\n      <td>-0.8638</td>\n    </tr>\n  </tbody>\n</table>\n</div>"
     },
     "metadata": {},
     "execution_count": 233
    }
   ],
   "source": [
    "sorted_negative_rows = negative_rows.sort_values(\"product_id\")\n",
    "negative_rows.head(n=8)"
   ]
  },
  {
   "cell_type": "code",
   "execution_count": 231,
   "metadata": {},
   "outputs": [
    {
     "output_type": "execute_result",
     "data": {
      "text/plain": [
       "235"
      ]
     },
     "metadata": {},
     "execution_count": 231
    }
   ],
   "source": [
    "len(negative_rows.index)"
   ]
  },
  {
   "cell_type": "code",
   "execution_count": 236,
   "metadata": {},
   "outputs": [],
   "source": [
    "negative_rows[\"n_bad_reviews\"] = negative_rows.groupby('product_id')['product_id'].transform('count')\n",
    "negative_rows[\"bad_review_percent\"] = negative_rows[\"n_bad_reviews\"] / negative_rows[\"n_reviews\"]"
   ]
  },
  {
   "cell_type": "code",
   "execution_count": 237,
   "metadata": {},
   "outputs": [
    {
     "output_type": "execute_result",
     "data": {
      "text/plain": [
       "      marketplace  customer_id       review_id  product_id  product_parent  \\\n",
       "8911           US     37307498   RZP5EWKOBX5KH  B009L9TMBY       696947556   \n",
       "22258          US     47973491  R1NOLST0E8IATT  B0036ZIF9Y       923729241   \n",
       "35555          US     30293525  R1FRDE0OIA546B  B00TCOAXR0       915238907   \n",
       "36783          US     50106447  R2KIR9GSCGNQI6  B002N723Q2       479009963   \n",
       "54550          US     22365141   RGSXU84MSLDY7  B006GL6N9E       776164341   \n",
       "\n",
       "                                     product_title product_category  \\\n",
       "8911                   Deluxe Mixed Nuts Raw, 2Lbs          Grocery   \n",
       "22258  Gemlik Type Black Olives LUX – 1.1lb (500g)          Grocery   \n",
       "35555            Chung Jung One Anchovy Sauce Blue          Grocery   \n",
       "36783       Numi Organic Black Tea, Loose Leaf Tea          Grocery   \n",
       "54550    Fruit Basket Delight with Cheese and Nuts          Grocery   \n",
       "\n",
       "      star_rating  helpful_votes  total_votes vine verified_purchase  \\\n",
       "8911            2            1.0          1.0    N                 Y   \n",
       "22258           1            2.0          2.0    N                 Y   \n",
       "35555           1            3.0          9.0    N                 Y   \n",
       "36783           1            1.0          3.0    N                 Y   \n",
       "54550           2            0.0          0.0    N                 Y   \n",
       "\n",
       "                                             review_headline  \\\n",
       "8911                               Ixnay on the rotten nuts.   \n",
       "22258                Mine were rotten and tasted horrible...   \n",
       "35555  .It tastes like it was made with rotted anchovies....   \n",
       "36783                     Good taste, but with rotten flavor   \n",
       "54550                                           rotten fruit   \n",
       "\n",
       "                                                                                                                                                                                                                                                                                                                                                                                                                                              review_body  \\\n",
       "8911                                                                                                                                                                                                                                                                                                                                                                                              Probably would have been good, but my nuts were rancid.   \n",
       "22258  I am Turkish and I've never had any problems with Marmarabirlik olives in my whole life.  HOWEVER, this is the first time I've ordered them online and I have to say there were the worst olives I've ever tasted.  They were rotten!  My Mom even commented that these olives are bad.  Maybe I got a bad batch because this company makes one of the very best Turkish olives on the market.  I'm extremely disappointed with this online order.   \n",
       "35555                                                                                                                                                       The taste is okay....Nothing spectacular....It tastes like it was made with rotted anchovies....<br />The main problem: I braised something using this sauce and my apartment stunk like rotted fish for days....<br />The cheap plastic bottle does not make this product more enticing.....   \n",
       "36783                                                                                                                                                                              Good taste, but absolutely no flavor, both dry and brewed. Contacted Numi Customer Service. Got careless response, They sent me a couple of tea bags which were much worse than the loose Emperor's Puerh tea. After a month or so it smells rotten. Still taste is OK   \n",
       "54550                                                                                                                                                                                                                                                                                                                                                           I sent this to my Mom for Mothers Day and the fruit was rotten! It made me feel terrible.   \n",
       "\n",
       "      review_date  n_reviews  sentiment_score  n_bad_reviews  \\\n",
       "8911   2015-08-28         20          -0.7750              1   \n",
       "22258  2015-08-24          7          -0.9069              1   \n",
       "35555  2015-08-19          3          -0.0772              1   \n",
       "36783  2015-08-19         15          -0.9272              1   \n",
       "54550  2015-08-12        159          -0.7712              1   \n",
       "\n",
       "       bad_review_percent  \n",
       "8911             0.050000  \n",
       "22258            0.142857  \n",
       "35555            0.333333  \n",
       "36783            0.066667  \n",
       "54550            0.006289  "
      ],
      "text/html": "<div>\n<style scoped>\n    .dataframe tbody tr th:only-of-type {\n        vertical-align: middle;\n    }\n\n    .dataframe tbody tr th {\n        vertical-align: top;\n    }\n\n    .dataframe thead th {\n        text-align: right;\n    }\n</style>\n<table border=\"1\" class=\"dataframe\">\n  <thead>\n    <tr style=\"text-align: right;\">\n      <th></th>\n      <th>marketplace</th>\n      <th>customer_id</th>\n      <th>review_id</th>\n      <th>product_id</th>\n      <th>product_parent</th>\n      <th>product_title</th>\n      <th>product_category</th>\n      <th>star_rating</th>\n      <th>helpful_votes</th>\n      <th>total_votes</th>\n      <th>vine</th>\n      <th>verified_purchase</th>\n      <th>review_headline</th>\n      <th>review_body</th>\n      <th>review_date</th>\n      <th>n_reviews</th>\n      <th>sentiment_score</th>\n      <th>n_bad_reviews</th>\n      <th>bad_review_percent</th>\n    </tr>\n  </thead>\n  <tbody>\n    <tr>\n      <th>8911</th>\n      <td>US</td>\n      <td>37307498</td>\n      <td>RZP5EWKOBX5KH</td>\n      <td>B009L9TMBY</td>\n      <td>696947556</td>\n      <td>Deluxe Mixed Nuts Raw, 2Lbs</td>\n      <td>Grocery</td>\n      <td>2</td>\n      <td>1.0</td>\n      <td>1.0</td>\n      <td>N</td>\n      <td>Y</td>\n      <td>Ixnay on the rotten nuts.</td>\n      <td>Probably would have been good, but my nuts were rancid.</td>\n      <td>2015-08-28</td>\n      <td>20</td>\n      <td>-0.7750</td>\n      <td>1</td>\n      <td>0.050000</td>\n    </tr>\n    <tr>\n      <th>22258</th>\n      <td>US</td>\n      <td>47973491</td>\n      <td>R1NOLST0E8IATT</td>\n      <td>B0036ZIF9Y</td>\n      <td>923729241</td>\n      <td>Gemlik Type Black Olives LUX – 1.1lb (500g)</td>\n      <td>Grocery</td>\n      <td>1</td>\n      <td>2.0</td>\n      <td>2.0</td>\n      <td>N</td>\n      <td>Y</td>\n      <td>Mine were rotten and tasted horrible...</td>\n      <td>I am Turkish and I've never had any problems with Marmarabirlik olives in my whole life.  HOWEVER, this is the first time I've ordered them online and I have to say there were the worst olives I've ever tasted.  They were rotten!  My Mom even commented that these olives are bad.  Maybe I got a bad batch because this company makes one of the very best Turkish olives on the market.  I'm extremely disappointed with this online order.</td>\n      <td>2015-08-24</td>\n      <td>7</td>\n      <td>-0.9069</td>\n      <td>1</td>\n      <td>0.142857</td>\n    </tr>\n    <tr>\n      <th>35555</th>\n      <td>US</td>\n      <td>30293525</td>\n      <td>R1FRDE0OIA546B</td>\n      <td>B00TCOAXR0</td>\n      <td>915238907</td>\n      <td>Chung Jung One Anchovy Sauce Blue</td>\n      <td>Grocery</td>\n      <td>1</td>\n      <td>3.0</td>\n      <td>9.0</td>\n      <td>N</td>\n      <td>Y</td>\n      <td>.It tastes like it was made with rotted anchovies....</td>\n      <td>The taste is okay....Nothing spectacular....It tastes like it was made with rotted anchovies....&lt;br /&gt;The main problem: I braised something using this sauce and my apartment stunk like rotted fish for days....&lt;br /&gt;The cheap plastic bottle does not make this product more enticing.....</td>\n      <td>2015-08-19</td>\n      <td>3</td>\n      <td>-0.0772</td>\n      <td>1</td>\n      <td>0.333333</td>\n    </tr>\n    <tr>\n      <th>36783</th>\n      <td>US</td>\n      <td>50106447</td>\n      <td>R2KIR9GSCGNQI6</td>\n      <td>B002N723Q2</td>\n      <td>479009963</td>\n      <td>Numi Organic Black Tea, Loose Leaf Tea</td>\n      <td>Grocery</td>\n      <td>1</td>\n      <td>1.0</td>\n      <td>3.0</td>\n      <td>N</td>\n      <td>Y</td>\n      <td>Good taste, but with rotten flavor</td>\n      <td>Good taste, but absolutely no flavor, both dry and brewed. Contacted Numi Customer Service. Got careless response, They sent me a couple of tea bags which were much worse than the loose Emperor's Puerh tea. After a month or so it smells rotten. Still taste is OK</td>\n      <td>2015-08-19</td>\n      <td>15</td>\n      <td>-0.9272</td>\n      <td>1</td>\n      <td>0.066667</td>\n    </tr>\n    <tr>\n      <th>54550</th>\n      <td>US</td>\n      <td>22365141</td>\n      <td>RGSXU84MSLDY7</td>\n      <td>B006GL6N9E</td>\n      <td>776164341</td>\n      <td>Fruit Basket Delight with Cheese and Nuts</td>\n      <td>Grocery</td>\n      <td>2</td>\n      <td>0.0</td>\n      <td>0.0</td>\n      <td>N</td>\n      <td>Y</td>\n      <td>rotten fruit</td>\n      <td>I sent this to my Mom for Mothers Day and the fruit was rotten! It made me feel terrible.</td>\n      <td>2015-08-12</td>\n      <td>159</td>\n      <td>-0.7712</td>\n      <td>1</td>\n      <td>0.006289</td>\n    </tr>\n  </tbody>\n</table>\n</div>"
     },
     "metadata": {},
     "execution_count": 237
    }
   ],
   "source": [
    "negative_rows.head()"
   ]
  },
  {
   "cell_type": "code",
   "execution_count": 241,
   "metadata": {},
   "outputs": [
    {
     "output_type": "execute_result",
     "data": {
      "text/plain": [
       "        marketplace  customer_id       review_id  product_id  product_parent  \\\n",
       "61021            US     14391210   RMC6ESIHDJHO8  B009XRHRZC       756206582   \n",
       "110798           US     30804716  R3AS6OXW82P248  B00VN76PCQ       584830304   \n",
       "354911           US     32360043  R1DIPL5U42RRC3  B00BNI7GFK        30184486   \n",
       "595809           US     37764355  R17CMHZXMG73ED  B00CMNGC1Y       995975178   \n",
       "686804           US      1930338  R1FN4ABM0VWLCZ  B00J2UY4R4       491138391   \n",
       "...             ...          ...             ...         ...             ...   \n",
       "847293           US      5810748  R1LT7LRGCEZMY6  B000CR1ELU       306270194   \n",
       "649016           US     15005427   RNDLJRATCWC9F  B0008D6WBA       356715615   \n",
       "2032911          US     25568272  R2NSMM7PGKFFGO  B0046HJN5G       840202637   \n",
       "1301480          US     52084020   R231KXE0KM229  B00HNTPF7E       287810209   \n",
       "1323431          US     26960683   RJMZ4OF7KQONW  B00DS842HS       552852355   \n",
       "\n",
       "                                                                        product_title  \\\n",
       "61021                   Dutch Soft Licorice Clogs-(Klompjes Drop)-GLUTEN FREE-4oz bag   \n",
       "110798   Crunchies Freeze Dried Fruit Snack Organic Variety Pack, 5 Count (Pack of 6)   \n",
       "354911                                        Sour Neon Gummy Worms 5 pounds Bulk Bag   \n",
       "595809                               4C Drink Mix - Wild Berry Pom - 16qt (Pack of 4)   \n",
       "686804                              Madhava AgaveFIVE Drink Mix, 6 Count (Pack of 12)   \n",
       "...                                                                               ...   \n",
       "847293       Premium Madagascar Vanilla Beans 1/4 lb (26-30 beans) JR Mushrooms Brand   \n",
       "649016                           Great Lakes Unflavored Gelatin, Kosher, 16 Ounce Can   \n",
       "2032911                                                       KIND Minis Variety Pack   \n",
       "1301480                      Viva Naturals Organic Extra Virgin Coconut Oil, 54 Ounce   \n",
       "1323431                      Viva Naturals Organic Extra Virgin Coconut Oil, 16 Ounce   \n",
       "\n",
       "        product_category star_rating  helpful_votes  total_votes vine  \\\n",
       "61021            Grocery           1            0.0          0.0    N   \n",
       "110798           Grocery           3            0.0          1.0    N   \n",
       "354911           Grocery           1            1.0          1.0    N   \n",
       "595809           Grocery           2            0.0          1.0    N   \n",
       "686804           Grocery           1            0.0          0.0    N   \n",
       "...                  ...         ...            ...          ...  ...   \n",
       "847293           Grocery           1            2.0          3.0    N   \n",
       "649016           Grocery           2            0.0          0.0    N   \n",
       "2032911          Grocery         2.0            2.0          3.0    N   \n",
       "1301480          Grocery           1            4.0          7.0    N   \n",
       "1323431          Grocery         1.0          103.0        135.0    N   \n",
       "\n",
       "        verified_purchase  \\\n",
       "61021                   Y   \n",
       "110798                  Y   \n",
       "354911                  Y   \n",
       "595809                  Y   \n",
       "686804                  N   \n",
       "...                   ...   \n",
       "847293                  Y   \n",
       "649016                  Y   \n",
       "2032911                 Y   \n",
       "1301480                 Y   \n",
       "1323431                 Y   \n",
       "\n",
       "                                                                                                            review_headline  \\\n",
       "61021                                                    sort of like eating some Brie cheeses that waft ammonia up the ...   \n",
       "110798                                                                             Disappointing and dangerous for toddlers   \n",
       "354911                                                                      but these things were terrible! Just icky sugar   \n",
       "595809   Tastes good but has fake sweetener in it. Acesulfame! this stuff is dangerous and makes my heart flutter and race.   \n",
       "686804                                                                            Smells amazing,  tastes like stinky feet.   \n",
       "...                                                                                                                     ...   \n",
       "847293                                                                                                         moldy/rotten   \n",
       "649016                                                                                      EW-rotten flesh smell and taste   \n",
       "2032911                               Love the bars, but they made a dangerous change to the items included in this mix...!   \n",
       "1301480                                                                                                   Completely rotten   \n",
       "1323431                                                                           Received rotten oil, company did not care   \n",
       "\n",
       "                                                                                                                                                                                                                                                                                                                                                                                                                                                                                                                                                                                                                                                                                                                                                                                                 review_body  \\\n",
       "61021                                                                                                                                                                                                                                                                                                                                                                                                                                                            I can taste an ammonia after taste with this licorice. So, so gross, sort of like eating some Brie cheeses that waft ammonia up the sinuses. I am so disappointed because it is difficult to find gluten free licorice (black is real, the red stuff is just candy).  The one shaped like cats is thinner and did NOT have that aftertaste.   \n",
       "110798                                                                                                                                                                                                                                                                                                                                                                                                                                                                                         These were rather  disappointing - they are very tiny bits of freeze dried fruit in a very small package. The mango and apple bits are very hard, even when soaked in milk (I use this type of fruit in cereal). I definitely would not give these to toddlers because of danger of choking on the hard ones.   \n",
       "354911                                                                                                                                                                                                                                                                                                                                                                                                                                                                                                                                                                                                                                                                                                       Sorry, but these things were terrible!  Just icky sugar, not even sour.  I got rid of the stuff   \n",
       "595809                                                                                                                                                                                             This product contains acesulfame sweetener which gives me serious heart flutter and raciness. acesulfame is made in lab and fake sugar. I wish 4c would just use regular sugar.  These fake sweeteners come at a price not yet fully revealed.  20 years of drinking aspartame or acesulfame could end up causing serious health problems down the road.  Not worth the zero calorie.  If it makes my heart race and flutter after a few drinks this proves that stuff has side effects.  Luckily for me it's instant.  What about those who show no signs now? Will they end up with cancer in 20 years?   \n",
       "686804                                                                                                                                                                                                                                                                                                                                                                                                                                                                                                                                                                                                                     Don't buy this stuff. I took one sip and spit it in the sink. How did this even make it past consumer testing?  This is terrible. It tastes like crushed powdered medicine. Bleh!   \n",
       "...                                                                                                                                                                                                                                                                                                                                                                                                                                                                                                                                                                                                                                                                                                                                                                                                      ...   \n",
       "847293                                                                                                                                                                                                                                                                                                                                                                                                                  My first shipment was great, but this shipment,  95% of the vanilla beans were useless and rotted/moldy. Not fermented, I mean bad, off. I was very disappointed and couldn't get amazon or the vendor to do much as it seems it's very hard to make a claim these days.  They just lost my business buying vanilla beans in bulk. Too bad, b/c I need to buy half a pound of beans.   \n",
       "649016                                                                                                                                                                                                                                                                                                                                                                                                                                                                                                                                                                                                                                                                                                               It has a rotten flesh smell/taste to it that makes me gag. I am going back to Knox. EW.   \n",
       "2032911  I really love Kind bars but I was very disappointed when they recently changed the mix of bars included in the multi-pack.  My husband is allergic to peanuts but can eat all other nuts.  Previously the mix included only one bar with peanuts, which was great - I ate those and he could have everything else.<br /><br />In my last \\\\\"subscribe & save\\\\\" shipment, they sent a different mix of bars which has TWO kinds of bars with peanuts in them.  I am mad that they made this dangerous change without alerting us - previously there was one \\\\\"color\\\\\" of wrap that my husband knew to avoid.  He could have been sent into anaphylactic shock if he had mistakenly eaten the wrong bar because of the \\\\\"blind\\\\\" change.<br /><br />The mix no longer includes the apricot bars.   \n",
       "1301480                                                                                                                                                                                                                                                                                                                                                                                                                                                                                                                                                                                                               My order was/is completely rotten. Smells horribly. Made me dry heave from the awful smell and the expiration date is not even near. Won't buy again. What a waste of 54oz and money!!   \n",
       "1323431                                                                                                                                                                                           Very concerned that I received basically rotten coconut oil that smelled like vomit.  Thankfully Amazon has refunded my purchase, but Viva Labs doesn't seem to care that a very bad batch of coconut oil is out there.  I tried calling customer service and the number did not work.  Then I emailed and got a form letter response that the matter was resolved.  Very disappointed and will not purchase from this particular company ever again.  Coconut oil that has gone bad can make you very ill, if you have purchased from this company and notice a strong rancid odor, please do not use it.   \n",
       "\n",
       "        review_date  n_reviews  sentiment_score  n_bad_reviews  \\\n",
       "61021    2015-08-10          1          -0.5470              1   \n",
       "110798   2015-07-24          1          -0.8437              1   \n",
       "354911   2015-04-29          1          -0.6800              1   \n",
       "595809   2015-02-13          1          -0.9027              1   \n",
       "686804   2015-01-13          1          -0.5707              1   \n",
       "...             ...        ...              ...            ...   \n",
       "847293   2014-11-21        630          -0.6067              1   \n",
       "649016   2015-01-26        739          -0.6908              1   \n",
       "2032911  2012-05-29        751          -0.9771              1   \n",
       "1301480  2014-03-31       1303          -0.9279              1   \n",
       "1323431  2014-03-18       9998          -0.9607              1   \n",
       "\n",
       "         bad_review_percent  \n",
       "61021              1.000000  \n",
       "110798             1.000000  \n",
       "354911             1.000000  \n",
       "595809             1.000000  \n",
       "686804             1.000000  \n",
       "...                     ...  \n",
       "847293             0.001587  \n",
       "649016             0.001353  \n",
       "2032911            0.001332  \n",
       "1301480            0.000767  \n",
       "1323431            0.000100  \n",
       "\n",
       "[235 rows x 19 columns]"
      ],
      "text/html": "<div>\n<style scoped>\n    .dataframe tbody tr th:only-of-type {\n        vertical-align: middle;\n    }\n\n    .dataframe tbody tr th {\n        vertical-align: top;\n    }\n\n    .dataframe thead th {\n        text-align: right;\n    }\n</style>\n<table border=\"1\" class=\"dataframe\">\n  <thead>\n    <tr style=\"text-align: right;\">\n      <th></th>\n      <th>marketplace</th>\n      <th>customer_id</th>\n      <th>review_id</th>\n      <th>product_id</th>\n      <th>product_parent</th>\n      <th>product_title</th>\n      <th>product_category</th>\n      <th>star_rating</th>\n      <th>helpful_votes</th>\n      <th>total_votes</th>\n      <th>vine</th>\n      <th>verified_purchase</th>\n      <th>review_headline</th>\n      <th>review_body</th>\n      <th>review_date</th>\n      <th>n_reviews</th>\n      <th>sentiment_score</th>\n      <th>n_bad_reviews</th>\n      <th>bad_review_percent</th>\n    </tr>\n  </thead>\n  <tbody>\n    <tr>\n      <th>61021</th>\n      <td>US</td>\n      <td>14391210</td>\n      <td>RMC6ESIHDJHO8</td>\n      <td>B009XRHRZC</td>\n      <td>756206582</td>\n      <td>Dutch Soft Licorice Clogs-(Klompjes Drop)-GLUTEN FREE-4oz bag</td>\n      <td>Grocery</td>\n      <td>1</td>\n      <td>0.0</td>\n      <td>0.0</td>\n      <td>N</td>\n      <td>Y</td>\n      <td>sort of like eating some Brie cheeses that waft ammonia up the ...</td>\n      <td>I can taste an ammonia after taste with this licorice. So, so gross, sort of like eating some Brie cheeses that waft ammonia up the sinuses. I am so disappointed because it is difficult to find gluten free licorice (black is real, the red stuff is just candy).  The one shaped like cats is thinner and did NOT have that aftertaste.</td>\n      <td>2015-08-10</td>\n      <td>1</td>\n      <td>-0.5470</td>\n      <td>1</td>\n      <td>1.000000</td>\n    </tr>\n    <tr>\n      <th>110798</th>\n      <td>US</td>\n      <td>30804716</td>\n      <td>R3AS6OXW82P248</td>\n      <td>B00VN76PCQ</td>\n      <td>584830304</td>\n      <td>Crunchies Freeze Dried Fruit Snack Organic Variety Pack, 5 Count (Pack of 6)</td>\n      <td>Grocery</td>\n      <td>3</td>\n      <td>0.0</td>\n      <td>1.0</td>\n      <td>N</td>\n      <td>Y</td>\n      <td>Disappointing and dangerous for toddlers</td>\n      <td>These were rather  disappointing - they are very tiny bits of freeze dried fruit in a very small package. The mango and apple bits are very hard, even when soaked in milk (I use this type of fruit in cereal). I definitely would not give these to toddlers because of danger of choking on the hard ones.</td>\n      <td>2015-07-24</td>\n      <td>1</td>\n      <td>-0.8437</td>\n      <td>1</td>\n      <td>1.000000</td>\n    </tr>\n    <tr>\n      <th>354911</th>\n      <td>US</td>\n      <td>32360043</td>\n      <td>R1DIPL5U42RRC3</td>\n      <td>B00BNI7GFK</td>\n      <td>30184486</td>\n      <td>Sour Neon Gummy Worms 5 pounds Bulk Bag</td>\n      <td>Grocery</td>\n      <td>1</td>\n      <td>1.0</td>\n      <td>1.0</td>\n      <td>N</td>\n      <td>Y</td>\n      <td>but these things were terrible! Just icky sugar</td>\n      <td>Sorry, but these things were terrible!  Just icky sugar, not even sour.  I got rid of the stuff</td>\n      <td>2015-04-29</td>\n      <td>1</td>\n      <td>-0.6800</td>\n      <td>1</td>\n      <td>1.000000</td>\n    </tr>\n    <tr>\n      <th>595809</th>\n      <td>US</td>\n      <td>37764355</td>\n      <td>R17CMHZXMG73ED</td>\n      <td>B00CMNGC1Y</td>\n      <td>995975178</td>\n      <td>4C Drink Mix - Wild Berry Pom - 16qt (Pack of 4)</td>\n      <td>Grocery</td>\n      <td>2</td>\n      <td>0.0</td>\n      <td>1.0</td>\n      <td>N</td>\n      <td>Y</td>\n      <td>Tastes good but has fake sweetener in it. Acesulfame! this stuff is dangerous and makes my heart flutter and race.</td>\n      <td>This product contains acesulfame sweetener which gives me serious heart flutter and raciness. acesulfame is made in lab and fake sugar. I wish 4c would just use regular sugar.  These fake sweeteners come at a price not yet fully revealed.  20 years of drinking aspartame or acesulfame could end up causing serious health problems down the road.  Not worth the zero calorie.  If it makes my heart race and flutter after a few drinks this proves that stuff has side effects.  Luckily for me it's instant.  What about those who show no signs now? Will they end up with cancer in 20 years?</td>\n      <td>2015-02-13</td>\n      <td>1</td>\n      <td>-0.9027</td>\n      <td>1</td>\n      <td>1.000000</td>\n    </tr>\n    <tr>\n      <th>686804</th>\n      <td>US</td>\n      <td>1930338</td>\n      <td>R1FN4ABM0VWLCZ</td>\n      <td>B00J2UY4R4</td>\n      <td>491138391</td>\n      <td>Madhava AgaveFIVE Drink Mix, 6 Count (Pack of 12)</td>\n      <td>Grocery</td>\n      <td>1</td>\n      <td>0.0</td>\n      <td>0.0</td>\n      <td>N</td>\n      <td>N</td>\n      <td>Smells amazing,  tastes like stinky feet.</td>\n      <td>Don't buy this stuff. I took one sip and spit it in the sink. How did this even make it past consumer testing?  This is terrible. It tastes like crushed powdered medicine. Bleh!</td>\n      <td>2015-01-13</td>\n      <td>1</td>\n      <td>-0.5707</td>\n      <td>1</td>\n      <td>1.000000</td>\n    </tr>\n    <tr>\n      <th>...</th>\n      <td>...</td>\n      <td>...</td>\n      <td>...</td>\n      <td>...</td>\n      <td>...</td>\n      <td>...</td>\n      <td>...</td>\n      <td>...</td>\n      <td>...</td>\n      <td>...</td>\n      <td>...</td>\n      <td>...</td>\n      <td>...</td>\n      <td>...</td>\n      <td>...</td>\n      <td>...</td>\n      <td>...</td>\n      <td>...</td>\n      <td>...</td>\n    </tr>\n    <tr>\n      <th>847293</th>\n      <td>US</td>\n      <td>5810748</td>\n      <td>R1LT7LRGCEZMY6</td>\n      <td>B000CR1ELU</td>\n      <td>306270194</td>\n      <td>Premium Madagascar Vanilla Beans 1/4 lb (26-30 beans) JR Mushrooms Brand</td>\n      <td>Grocery</td>\n      <td>1</td>\n      <td>2.0</td>\n      <td>3.0</td>\n      <td>N</td>\n      <td>Y</td>\n      <td>moldy/rotten</td>\n      <td>My first shipment was great, but this shipment,  95% of the vanilla beans were useless and rotted/moldy. Not fermented, I mean bad, off. I was very disappointed and couldn't get amazon or the vendor to do much as it seems it's very hard to make a claim these days.  They just lost my business buying vanilla beans in bulk. Too bad, b/c I need to buy half a pound of beans.</td>\n      <td>2014-11-21</td>\n      <td>630</td>\n      <td>-0.6067</td>\n      <td>1</td>\n      <td>0.001587</td>\n    </tr>\n    <tr>\n      <th>649016</th>\n      <td>US</td>\n      <td>15005427</td>\n      <td>RNDLJRATCWC9F</td>\n      <td>B0008D6WBA</td>\n      <td>356715615</td>\n      <td>Great Lakes Unflavored Gelatin, Kosher, 16 Ounce Can</td>\n      <td>Grocery</td>\n      <td>2</td>\n      <td>0.0</td>\n      <td>0.0</td>\n      <td>N</td>\n      <td>Y</td>\n      <td>EW-rotten flesh smell and taste</td>\n      <td>It has a rotten flesh smell/taste to it that makes me gag. I am going back to Knox. EW.</td>\n      <td>2015-01-26</td>\n      <td>739</td>\n      <td>-0.6908</td>\n      <td>1</td>\n      <td>0.001353</td>\n    </tr>\n    <tr>\n      <th>2032911</th>\n      <td>US</td>\n      <td>25568272</td>\n      <td>R2NSMM7PGKFFGO</td>\n      <td>B0046HJN5G</td>\n      <td>840202637</td>\n      <td>KIND Minis Variety Pack</td>\n      <td>Grocery</td>\n      <td>2.0</td>\n      <td>2.0</td>\n      <td>3.0</td>\n      <td>N</td>\n      <td>Y</td>\n      <td>Love the bars, but they made a dangerous change to the items included in this mix...!</td>\n      <td>I really love Kind bars but I was very disappointed when they recently changed the mix of bars included in the multi-pack.  My husband is allergic to peanuts but can eat all other nuts.  Previously the mix included only one bar with peanuts, which was great - I ate those and he could have everything else.&lt;br /&gt;&lt;br /&gt;In my last \\\\\"subscribe &amp; save\\\\\" shipment, they sent a different mix of bars which has TWO kinds of bars with peanuts in them.  I am mad that they made this dangerous change without alerting us - previously there was one \\\\\"color\\\\\" of wrap that my husband knew to avoid.  He could have been sent into anaphylactic shock if he had mistakenly eaten the wrong bar because of the \\\\\"blind\\\\\" change.&lt;br /&gt;&lt;br /&gt;The mix no longer includes the apricot bars.</td>\n      <td>2012-05-29</td>\n      <td>751</td>\n      <td>-0.9771</td>\n      <td>1</td>\n      <td>0.001332</td>\n    </tr>\n    <tr>\n      <th>1301480</th>\n      <td>US</td>\n      <td>52084020</td>\n      <td>R231KXE0KM229</td>\n      <td>B00HNTPF7E</td>\n      <td>287810209</td>\n      <td>Viva Naturals Organic Extra Virgin Coconut Oil, 54 Ounce</td>\n      <td>Grocery</td>\n      <td>1</td>\n      <td>4.0</td>\n      <td>7.0</td>\n      <td>N</td>\n      <td>Y</td>\n      <td>Completely rotten</td>\n      <td>My order was/is completely rotten. Smells horribly. Made me dry heave from the awful smell and the expiration date is not even near. Won't buy again. What a waste of 54oz and money!!</td>\n      <td>2014-03-31</td>\n      <td>1303</td>\n      <td>-0.9279</td>\n      <td>1</td>\n      <td>0.000767</td>\n    </tr>\n    <tr>\n      <th>1323431</th>\n      <td>US</td>\n      <td>26960683</td>\n      <td>RJMZ4OF7KQONW</td>\n      <td>B00DS842HS</td>\n      <td>552852355</td>\n      <td>Viva Naturals Organic Extra Virgin Coconut Oil, 16 Ounce</td>\n      <td>Grocery</td>\n      <td>1.0</td>\n      <td>103.0</td>\n      <td>135.0</td>\n      <td>N</td>\n      <td>Y</td>\n      <td>Received rotten oil, company did not care</td>\n      <td>Very concerned that I received basically rotten coconut oil that smelled like vomit.  Thankfully Amazon has refunded my purchase, but Viva Labs doesn't seem to care that a very bad batch of coconut oil is out there.  I tried calling customer service and the number did not work.  Then I emailed and got a form letter response that the matter was resolved.  Very disappointed and will not purchase from this particular company ever again.  Coconut oil that has gone bad can make you very ill, if you have purchased from this company and notice a strong rancid odor, please do not use it.</td>\n      <td>2014-03-18</td>\n      <td>9998</td>\n      <td>-0.9607</td>\n      <td>1</td>\n      <td>0.000100</td>\n    </tr>\n  </tbody>\n</table>\n<p>235 rows × 19 columns</p>\n</div>"
     },
     "metadata": {},
     "execution_count": 241
    }
   ],
   "source": [
    "# Reviews sorted by proportion of reviews that are 'bad'\n",
    "negative_rows.sort_values(by=['bad_review_percent', 'n_reviews'], ascending=False)"
   ]
  },
  {
   "cell_type": "code",
   "execution_count": 54,
   "metadata": {},
   "outputs": [
    {
     "output_type": "execute_result",
     "data": {
      "text/plain": [
       "572710338    3\n",
       "23413404     2\n",
       "969947869    2\n",
       "92995222     2\n",
       "162663470    2\n",
       "            ..\n",
       "705473714    1\n",
       "323988147    1\n",
       "340036861    1\n",
       "122523830    1\n",
       "127590911    1\n",
       "Name: product_parent, Length: 220, dtype: int64"
      ]
     },
     "metadata": {},
     "execution_count": 54
    }
   ],
   "source": [
    "negative_rows['product_id'].value_counts()\n",
    "negative_rows['product_parent'].value_counts()"
   ]
  },
  {
   "cell_type": "code",
   "execution_count": 57,
   "metadata": {},
   "outputs": [
    {
     "output_type": "execute_result",
     "data": {
      "text/plain": [
       "                                                                                                    NaN   \n",
       "-0.9787                                                                                                                                                                                                                                                                                                                                            NaN   \n",
       "-0.9771                                                                                                                                                                                                                                                                                                                                            NaN   \n",
       "-0.9741                                                                                                                                                                                                                                                                                                                                            NaN   \n",
       "-0.9707                                                                                                                                                                                                                                                                                                                                            NaN   \n",
       "...                                                                                                                                                                                                                                                                                                                                                ...   \n",
       "this dressing has phosphoric acid in it all of the name brand ranch dressings do if you look even the H-E-B store brand ranch dressing here in south texas has it a lot of sodas have it to its not good for your teeth and if you are getting a bad taste in your mouth after eating this stuff its because of the phosphoric acid                NaN   \n",
       "this product is dangerous                                                                                                                                                                                                                                                                                                                          NaN   \n",
       "very disappointing birthday present                                                                                                                                                                                                                                                                                                                NaN   \n",
       "what an icky trick!                                                                                                                                                                                                                                                                                                                                NaN   \n",
       "you had better be careful with this stuff...I took one tsp and my heart was literally skipping in my chest so hard you could see it through my shirt...I was faint and ended up having to go to the doctor to get a beta-blocker (which i have never taken) to make it stop.  Be warned.                                                           NaN   \n",
       "\n",
       "                                                                                                                                                                                                                                                                                                                                     review_headline  \\\n",
       "-0.9843                                                                                                                                                                                                                                                                                                                                          NaN   \n",
       "-0.9787                                                                                                                                                                                                                                                                                                                                          NaN   \n",
       "-0.9771                                                                                                                                                                                                                                                                                                                                          NaN   \n",
       "-0.9741                                                                                                                                                                                                                                                                                                                                          NaN   \n",
       "-0.9707                                                                                                                                                                                                                                                                                                                                          NaN   \n",
       "...                                                                                                                                                                                                                                                                                                                                              ...   \n",
       "this dressing has phosphoric acid in it all of the name brand ranch dressings do if you look even the H-E-B store brand ranch dressing here in south texas has it a lot of sodas have it to its not good for your teeth and if you are getting a bad taste in your mouth after eating this stuff its because of the phosphoric acid              NaN   \n",
       "this product is dangerous                                                                                                                                                                                                                                                                                                                        1.0   \n",
       "very disappointing birthday present                                                                                                                                                                                                                                                                                                              NaN   \n",
       "what an icky trick!                                                                                                                                                                                                                                                                                                                              1.0   \n",
       "you had better be careful with this stuff...I took one tsp and my heart was literally skipping in my chest so hard you could see it through my shirt...I was faint and ended up having to go to the doctor to get a beta-blocker (which i have never taken) to make it stop.  Be warned.                                                         NaN   \n",
       "\n",
       "                                                                                                                                                                                                                                                                                                                                     review_body  \\\n",
       "-0.9843                                                                                                                                                                                                                                                                                                                                      NaN   \n",
       "-0.9787                                                                                                                                                                                                                                                                                                                                      NaN   \n",
       "-0.9771                                                                                                                                                                                                                                                                                                                                      NaN   \n",
       "-0.9741                                                                                                                                                                                                                                                                                                                                      NaN   \n",
       "-0.9707                                                                                                                                                                                                                                                                                                                                      NaN   \n",
       "...                                                                                                                                                                                                                                                                                                                                          ...   \n",
       "this dressing has phosphoric acid in it all of the name brand ranch dressings do if you look even the H-E-B store brand ranch dressing here in south texas has it a lot of sodas have it to its not good for your teeth and if you are getting a bad taste in your mouth after eating this stuff its because of the phosphoric acid          1.0   \n",
       "this product is dangerous                                                                                                                                                                                                                                                                                                                    NaN   \n",
       "very disappointing birthday present                                                                                                                                                                                                                                                                                                          1.0   \n",
       "what an icky trick!                                                                                                                                                                                                                                                                                                                          NaN   \n",
       "you had better be careful with this stuff...I took one tsp and my heart was literally skipping in my chest so hard you could see it through my shirt...I was faint and ended up having to go to the doctor to get a beta-blocker (which i have never taken) to make it stop.  Be warned.                                                     1.0   \n",
       "\n",
       "                                                                                                                                                                                                                                                                                                                                     review_date  \\\n",
       "-0.9843                                                                                                                                                                                                                                                                                                                                      NaN   \n",
       "-0.9787                                                                                                                                                                                                                                                                                                                                      NaN   \n",
       "-0.9771                                                                                                                                                                                                                                                                                                                                      NaN   \n",
       "-0.9741                                                                                                                                                                                                                                                                                                                                      NaN   \n",
       "-0.9707                                                                                                                                                                                                                                                                                                                                      NaN   \n",
       "...                                                                                                                                                                                                                                                                                                                                          ...   \n",
       "this dressing has phosphoric acid in it all of the name brand ranch dressings do if you look even the H-E-B store brand ranch dressing here in south texas has it a lot of sodas have it to its not good for your teeth and if you are getting a bad taste in your mouth after eating this stuff its because of the phosphoric acid          NaN   \n",
       "this product is dangerous                                                                                                                                                                                                                                                                                                                    NaN   \n",
       "very disappointing birthday present                                                                                                                                                                                                                                                                                                          NaN   \n",
       "what an icky trick!                                                                                                                                                                                                                                                                                                                          NaN   \n",
       "you had better be careful with this stuff...I took one tsp and my heart was literally skipping in my chest so hard you could see it through my shirt...I was faint and ended up having to go to the doctor to get a beta-blocker (which i have never taken) to make it stop.  Be warned.                                                     NaN   \n",
       "\n",
       "                                                                                                                                                                                                                                                                                                                                     sentiment_score  \n",
       "-0.9843                                                                                                                                                                                                                                                                                                                                          1.0  \n",
       "-0.9787                                                                                                                                                                                                                                                                                                                                          1.0  \n",
       "-0.9771                                                                                                                                                                                                                                                                                                                                          1.0  \n",
       "-0.9741                                                                                                                                                                                                                                                                                                                                          1.0  \n",
       "-0.9707                                                                                                                                                                                                                                                                                                                                          1.0  \n",
       "...                                                                                                                                                                                                                                                                                                                                              ...  \n",
       "this dressing has phosphoric acid in it all of the name brand ranch dressings do if you look even the H-E-B store brand ranch dressing here in south texas has it a lot of sodas have it to its not good for your teeth and if you are getting a bad taste in your mouth after eating this stuff its because of the phosphoric acid              NaN  \n",
       "this product is dangerous                                                                                                                                                                                                                                                                                                                        NaN  \n",
       "very disappointing birthday present                                                                                                                                                                                                                                                                                                              NaN  \n",
       "what an icky trick!                                                                                                                                                                                                                                                                                                                              NaN  \n",
       "you had better be careful with this stuff...I took one tsp and my heart was literally skipping in my chest so hard you could see it through my shirt...I was faint and ended up having to go to the doctor to get a beta-blocker (which i have never taken) to make it stop.  Be warned.                                                         NaN  \n",
       "\n",
       "[2003 rows x 16 columns]"
      ],
      "text/html": "<div>\n<style scoped>\n    .dataframe tbody tr th:only-of-type {\n        vertical-align: middle;\n    }\n\n    .dataframe tbody tr th {\n        vertical-align: top;\n    }\n\n    .dataframe thead th {\n        text-align: right;\n    }\n</style>\n<table border=\"1\" class=\"dataframe\">\n  <thead>\n    <tr style=\"text-align: right;\">\n      <th></th>\n      <th>marketplace</th>\n      <th>customer_id</th>\n      <th>review_id</th>\n      <th>product_id</th>\n      <th>product_parent</th>\n      <th>product_title</th>\n      <th>product_category</th>\n      <th>star_rating</th>\n      <th>helpful_votes</th>\n      <th>total_votes</th>\n      <th>vine</th>\n      <th>verified_purchase</th>\n      <th>review_headline</th>\n      <th>review_body</th>\n      <th>review_date</th>\n      <th>sentiment_score</th>\n    </tr>\n  </thead>\n  <tbody>\n    <tr>\n      <th>-0.9843</th>\n      <td>NaN</td>\n      <td>NaN</td>\n      <td>NaN</td>\n      <td>NaN</td>\n      <td>NaN</td>\n      <td>NaN</td>\n      <td>NaN</td>\n      <td>NaN</td>\n      <td>NaN</td>\n      <td>NaN</td>\n      <td>NaN</td>\n      <td>NaN</td>\n      <td>NaN</td>\n      <td>NaN</td>\n      <td>NaN</td>\n      <td>1.0</td>\n    </tr>\n    <tr>\n      <th>-0.9787</th>\n      <td>NaN</td>\n      <td>NaN</td>\n      <td>NaN</td>\n      <td>NaN</td>\n      <td>NaN</td>\n      <td>NaN</td>\n      <td>NaN</td>\n      <td>NaN</td>\n      <td>NaN</td>\n      <td>NaN</td>\n      <td>NaN</td>\n      <td>NaN</td>\n      <td>NaN</td>\n      <td>NaN</td>\n      <td>NaN</td>\n      <td>1.0</td>\n    </tr>\n    <tr>\n      <th>-0.9771</th>\n      <td>NaN</td>\n      <td>NaN</td>\n      <td>NaN</td>\n      <td>NaN</td>\n      <td>NaN</td>\n      <td>NaN</td>\n      <td>NaN</td>\n      <td>NaN</td>\n      <td>NaN</td>\n      <td>NaN</td>\n      <td>NaN</td>\n      <td>NaN</td>\n      <td>NaN</td>\n      <td>NaN</td>\n      <td>NaN</td>\n      <td>1.0</td>\n    </tr>\n    <tr>\n      <th>-0.9741</th>\n      <td>NaN</td>\n      <td>NaN</td>\n      <td>NaN</td>\n      <td>NaN</td>\n      <td>NaN</td>\n      <td>NaN</td>\n      <td>NaN</td>\n      <td>NaN</td>\n      <td>NaN</td>\n      <td>NaN</td>\n      <td>NaN</td>\n      <td>NaN</td>\n      <td>NaN</td>\n      <td>NaN</td>\n      <td>NaN</td>\n      <td>1.0</td>\n    </tr>\n    <tr>\n      <th>-0.9707</th>\n      <td>NaN</td>\n      <td>NaN</td>\n      <td>NaN</td>\n      <td>NaN</td>\n      <td>NaN</td>\n      <td>NaN</td>\n      <td>NaN</td>\n      <td>NaN</td>\n      <td>NaN</td>\n      <td>NaN</td>\n      <td>NaN</td>\n      <td>NaN</td>\n      <td>NaN</td>\n      <td>NaN</td>\n      <td>NaN</td>\n      <td>1.0</td>\n    </tr>\n    <tr>\n      <th>...</th>\n      <td>...</td>\n      <td>...</td>\n      <td>...</td>\n      <td>...</td>\n      <td>...</td>\n      <td>...</td>\n      <td>...</td>\n      <td>...</td>\n      <td>...</td>\n      <td>...</td>\n      <td>...</td>\n      <td>...</td>\n      <td>...</td>\n      <td>...</td>\n      <td>...</td>\n      <td>...</td>\n    </tr>\n    <tr>\n      <th>this dressing has phosphoric acid in it all of the name brand ranch dressings do if you look even the H-E-B store brand ranch dressing here in south texas has it a lot of sodas have it to its not good for your teeth and if you are getting a bad taste in your mouth after eating this stuff its because of the phosphoric acid</th>\n      <td>NaN</td>\n      <td>NaN</td>\n      <td>NaN</td>\n      <td>NaN</td>\n      <td>NaN</td>\n      <td>NaN</td>\n      <td>NaN</td>\n      <td>NaN</td>\n      <td>NaN</td>\n      <td>NaN</td>\n      <td>NaN</td>\n      <td>NaN</td>\n      <td>NaN</td>\n      <td>1.0</td>\n      <td>NaN</td>\n      <td>NaN</td>\n    </tr>\n    <tr>\n      <th>this product is dangerous</th>\n      <td>NaN</td>\n      <td>NaN</td>\n      <td>NaN</td>\n      <td>NaN</td>\n      <td>NaN</td>\n      <td>NaN</td>\n      <td>NaN</td>\n      <td>NaN</td>\n      <td>NaN</td>\n      <td>NaN</td>\n      <td>NaN</td>\n      <td>NaN</td>\n      <td>1.0</td>\n      <td>NaN</td>\n      <td>NaN</td>\n      <td>NaN</td>\n    </tr>\n    <tr>\n      <th>very disappointing birthday present</th>\n      <td>NaN</td>\n      <td>NaN</td>\n      <td>NaN</td>\n      <td>NaN</td>\n      <td>NaN</td>\n      <td>NaN</td>\n      <td>NaN</td>\n      <td>NaN</td>\n      <td>NaN</td>\n      <td>NaN</td>\n      <td>NaN</td>\n      <td>NaN</td>\n      <td>NaN</td>\n      <td>1.0</td>\n      <td>NaN</td>\n      <td>NaN</td>\n    </tr>\n    <tr>\n      <th>what an icky trick!</th>\n      <td>NaN</td>\n      <td>NaN</td>\n      <td>NaN</td>\n      <td>NaN</td>\n      <td>NaN</td>\n      <td>NaN</td>\n      <td>NaN</td>\n      <td>NaN</td>\n      <td>NaN</td>\n      <td>NaN</td>\n      <td>NaN</td>\n      <td>NaN</td>\n      <td>1.0</td>\n      <td>NaN</td>\n      <td>NaN</td>\n      <td>NaN</td>\n    </tr>\n    <tr>\n      <th>you had better be careful with this stuff...I took one tsp and my heart was literally skipping in my chest so hard you could see it through my shirt...I was faint and ended up having to go to the doctor to get a beta-blocker (which i have never taken) to make it stop.  Be warned.</th>\n      <td>NaN</td>\n      <td>NaN</td>\n      <td>NaN</td>\n      <td>NaN</td>\n      <td>NaN</td>\n      <td>NaN</td>\n      <td>NaN</td>\n      <td>NaN</td>\n      <td>NaN</td>\n      <td>NaN</td>\n      <td>NaN</td>\n      <td>NaN</td>\n      <td>NaN</td>\n      <td>1.0</td>\n      <td>NaN</td>\n      <td>NaN</td>\n    </tr>\n  </tbody>\n</table>\n<p>2003 rows × 16 columns</p>\n</div>"
     },
     "metadata": {},
     "execution_count": 57
    }
   ],
   "source": [
    "negative_rows.apply(pd.value_counts)"
   ]
  },
  {
   "cell_type": "code",
   "execution_count": null,
   "metadata": {},
   "outputs": [],
   "source": []
  }
 ],
 "metadata": {
  "kernelspec": {
   "name": "python385jvsc74a57bd0fbff9bfab3ee0df4124016b4e010029cf2ec5864ce5e3c4aa09796cc364af95f",
   "display_name": "Python 3.8.5 64-bit (conda)"
  },
  "language_info": {
   "codemirror_mode": {
    "name": "ipython",
    "version": 3
   },
   "file_extension": ".py",
   "mimetype": "text/x-python",
   "name": "python",
   "nbconvert_exporter": "python",
   "pygments_lexer": "ipython3",
   "version": "3.8.5-final"
  }
 },
 "nbformat": 4,
 "nbformat_minor": 4
}