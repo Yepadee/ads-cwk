{
 "cells": [
  {
   "cell_type": "code",
   "execution_count": 1,
   "metadata": {},
   "outputs": [],
   "source": [
    "import pandas as pd \n",
    "DATASET = \"amazon_reviews_us_Grocery_v1_00.tsv\"\n",
    "import logging\n",
    "import warnings\n",
    "import sys\n",
    "import matplotlib.pyplot as plt\n",
    "from wordcloud import WordCloud, STOPWORDS\n",
    "from nltk.corpus import wordnet\n",
    "import nltk\n",
    "from nltk.sentiment import SentimentIntensityAnalyzer\n",
    "\n",
    "warnings.filterwarnings('ignore')\n",
    "warnings.simplefilter('ignore')\n",
    "logging.disable(sys.maxsize)\n",
    "\n"
   ]
  },
  {
   "cell_type": "code",
   "execution_count": 2,
   "metadata": {},
   "outputs": [],
   "source": [
    "dataset = pd.read_table(DATASET, error_bad_lines=False, header=0, warn_bad_lines=False) \n",
    "# there are some malformed entries the dataset... let's ignore those for now\n"
   ]
  },
  {
   "cell_type": "code",
   "execution_count": null,
   "metadata": {},
   "outputs": [],
   "source": [
    "synonyms = []\n",
    "for subject in subjects:\n",
    "    for syn in wordnet.synsets(subject):\n",
    "        for l in syn.lemmas():\n",
    "            synonyms.append(l.name())\n",
    "\n",
    "print(set(synonyms))\n"
   ]
  },
  {
   "cell_type": "code",
   "execution_count": 9,
   "metadata": {},
   "outputs": [
    {
     "output_type": "execute_result",
     "data": {
      "text/plain": [
       "  marketplace  customer_id       review_id  product_id  product_parent  \\\n",
       "0          US     42521656  R26MV8D0KG6QI6  B000SAQCWC       159713740   \n",
       "1          US     12049833  R1OF8GP57AQ1A0  B00509LVIQ       138680402   \n",
       "2          US       107642  R3VDC1QB6MC4ZZ  B00KHXESLC       252021703   \n",
       "3          US      6042304  R12FA3DCF8F9ER  B000F8JIIC       752728342   \n",
       "4          US     18123821   RTWHVNV6X4CNJ  B004ZWR9RQ       552138758   \n",
       "\n",
       "                                       product_title product_category  \\\n",
       "0  The Cravings Place Chocolate Chunk Cookie Mix,...          Grocery   \n",
       "1            Mauna Loa Macadamias, 11 Ounce Packages          Grocery   \n",
       "2  Organic Matcha Green Tea Powder - 100% Pure Ma...          Grocery   \n",
       "3  15oz Raspberry Lyons Designer Dessert Syrup Sauce          Grocery   \n",
       "4  Stride Spark Kinetic Fruit Sugar Free Gum, 14-...          Grocery   \n",
       "\n",
       "  star_rating  helpful_votes  total_votes vine verified_purchase  \\\n",
       "0           5            0.0          0.0    N                 Y   \n",
       "1           5            0.0          0.0    N                 Y   \n",
       "2           5            0.0          0.0    N                 N   \n",
       "3           5            0.0          0.0    N                 Y   \n",
       "4           5            0.0          0.0    N                 Y   \n",
       "\n",
       "                      review_headline  \\\n",
       "0  Using these for years - love them.   \n",
       "1                           Wonderful   \n",
       "2                          Five Stars   \n",
       "3                          Five Stars   \n",
       "4                          Five Stars   \n",
       "\n",
       "                                         review_body review_date  \n",
       "0  As a family allergic to wheat, dairy, eggs, nu...  2015-08-31  \n",
       "1  My favorite nut.  Creamy, crunchy, salty, and ...  2015-08-31  \n",
       "2  This green tea tastes so good! My girlfriend l...  2015-08-31  \n",
       "3  I love Melissa's brand but this is a great sec...  2015-08-31  \n",
       "4                                               good  2015-08-31  "
      ],
      "text/html": "<div>\n<style scoped>\n    .dataframe tbody tr th:only-of-type {\n        vertical-align: middle;\n    }\n\n    .dataframe tbody tr th {\n        vertical-align: top;\n    }\n\n    .dataframe thead th {\n        text-align: right;\n    }\n</style>\n<table border=\"1\" class=\"dataframe\">\n  <thead>\n    <tr style=\"text-align: right;\">\n      <th></th>\n      <th>marketplace</th>\n      <th>customer_id</th>\n      <th>review_id</th>\n      <th>product_id</th>\n      <th>product_parent</th>\n      <th>product_title</th>\n      <th>product_category</th>\n      <th>star_rating</th>\n      <th>helpful_votes</th>\n      <th>total_votes</th>\n      <th>vine</th>\n      <th>verified_purchase</th>\n      <th>review_headline</th>\n      <th>review_body</th>\n      <th>review_date</th>\n    </tr>\n  </thead>\n  <tbody>\n    <tr>\n      <th>0</th>\n      <td>US</td>\n      <td>42521656</td>\n      <td>R26MV8D0KG6QI6</td>\n      <td>B000SAQCWC</td>\n      <td>159713740</td>\n      <td>The Cravings Place Chocolate Chunk Cookie Mix,...</td>\n      <td>Grocery</td>\n      <td>5</td>\n      <td>0.0</td>\n      <td>0.0</td>\n      <td>N</td>\n      <td>Y</td>\n      <td>Using these for years - love them.</td>\n      <td>As a family allergic to wheat, dairy, eggs, nu...</td>\n      <td>2015-08-31</td>\n    </tr>\n    <tr>\n      <th>1</th>\n      <td>US</td>\n      <td>12049833</td>\n      <td>R1OF8GP57AQ1A0</td>\n      <td>B00509LVIQ</td>\n      <td>138680402</td>\n      <td>Mauna Loa Macadamias, 11 Ounce Packages</td>\n      <td>Grocery</td>\n      <td>5</td>\n      <td>0.0</td>\n      <td>0.0</td>\n      <td>N</td>\n      <td>Y</td>\n      <td>Wonderful</td>\n      <td>My favorite nut.  Creamy, crunchy, salty, and ...</td>\n      <td>2015-08-31</td>\n    </tr>\n    <tr>\n      <th>2</th>\n      <td>US</td>\n      <td>107642</td>\n      <td>R3VDC1QB6MC4ZZ</td>\n      <td>B00KHXESLC</td>\n      <td>252021703</td>\n      <td>Organic Matcha Green Tea Powder - 100% Pure Ma...</td>\n      <td>Grocery</td>\n      <td>5</td>\n      <td>0.0</td>\n      <td>0.0</td>\n      <td>N</td>\n      <td>N</td>\n      <td>Five Stars</td>\n      <td>This green tea tastes so good! My girlfriend l...</td>\n      <td>2015-08-31</td>\n    </tr>\n    <tr>\n      <th>3</th>\n      <td>US</td>\n      <td>6042304</td>\n      <td>R12FA3DCF8F9ER</td>\n      <td>B000F8JIIC</td>\n      <td>752728342</td>\n      <td>15oz Raspberry Lyons Designer Dessert Syrup Sauce</td>\n      <td>Grocery</td>\n      <td>5</td>\n      <td>0.0</td>\n      <td>0.0</td>\n      <td>N</td>\n      <td>Y</td>\n      <td>Five Stars</td>\n      <td>I love Melissa's brand but this is a great sec...</td>\n      <td>2015-08-31</td>\n    </tr>\n    <tr>\n      <th>4</th>\n      <td>US</td>\n      <td>18123821</td>\n      <td>RTWHVNV6X4CNJ</td>\n      <td>B004ZWR9RQ</td>\n      <td>552138758</td>\n      <td>Stride Spark Kinetic Fruit Sugar Free Gum, 14-...</td>\n      <td>Grocery</td>\n      <td>5</td>\n      <td>0.0</td>\n      <td>0.0</td>\n      <td>N</td>\n      <td>Y</td>\n      <td>Five Stars</td>\n      <td>good</td>\n      <td>2015-08-31</td>\n    </tr>\n  </tbody>\n</table>\n</div>"
     },
     "metadata": {},
     "execution_count": 9
    }
   ],
   "source": [
    "### Let's see what the dataset looks like... \n",
    "dataset.head()\n"
   ]
  },
  {
   "cell_type": "code",
   "execution_count": 10,
   "metadata": {},
   "outputs": [
    {
     "output_type": "execute_result",
     "data": {
      "text/plain": [
       "marketplace           0\n",
       "customer_id           0\n",
       "review_id             0\n",
       "product_id            0\n",
       "product_parent        0\n",
       "product_title         0\n",
       "product_category      0\n",
       "star_rating          22\n",
       "helpful_votes        23\n",
       "total_votes          23\n",
       "vine                 23\n",
       "verified_purchase    23\n",
       "review_headline      34\n",
       "review_body          88\n",
       "review_date          65\n",
       "dtype: int64"
      ]
     },
     "metadata": {},
     "execution_count": 10
    }
   ],
   "source": [
    "#lots of nan values... :( \n",
    "dataset.isnull().sum()"
   ]
  },
  {
   "cell_type": "code",
   "execution_count": 3,
   "metadata": {},
   "outputs": [
    {
     "output_type": "execute_result",
     "data": {
      "text/plain": [
       "    marketplace  customer_id       review_id  product_id  product_parent  \\\n",
       "130          US     21294263  R3KT8X23DG3WCI  B00ZPV2070        22340539   \n",
       "186          US     41355087   R8AE9OXZMTORH  B00KDW19WS        76193812   \n",
       "208          US     51044872  R3QZBU3F214CF1  B00N2FVHWU       928026267   \n",
       "270          US     48880662    RRRDCQSQ66LE  B008TMIO2M        81982020   \n",
       "273          US     14100648   RGH9G1J3M0ZW6  B005P0U5BO       936604878   \n",
       "\n",
       "                                         product_title product_category  \\\n",
       "130  Wolfgang Puck Coffee Keurig K-Cups - Vanilla F...          Grocery   \n",
       "186  Nagaraya Cracker Nuts Assorted Bundle 4-Pack: ...          Grocery   \n",
       "208  Green Mountain Coffee Wicked Winter Blend Keur...          Grocery   \n",
       "270                Nutella, Hazelnut Spread with Cocoa          Grocery   \n",
       "273       Envirokidz Organic Bar Gf Crspyrice Brry Org          Grocery   \n",
       "\n",
       "    star_rating  helpful_votes  total_votes vine verified_purchase  \\\n",
       "130           5            0.0          0.0    N                 Y   \n",
       "186           5            0.0          0.0    N                 Y   \n",
       "208           5            1.0          1.0    N                 Y   \n",
       "270           4            0.0          0.0    N                 Y   \n",
       "273           5            0.0          0.0    N                 Y   \n",
       "\n",
       "                         review_headline  \\\n",
       "130                         Great coffee   \n",
       "186                           Five Stars   \n",
       "208                           Five Stars   \n",
       "270                           Four Stars   \n",
       "273  GREAT! Thanks So much and God bless   \n",
       "\n",
       "                                           review_body review_date  \n",
       "130                                          Delicious  2015-08-31  \n",
       "186                                              Yummy  2015-08-31  \n",
       "208                                       Great coffee  2015-08-31  \n",
       "270                                               good  2015-08-31  \n",
       "273  GREAT!  Thanks So much and God bless!  &#60;&#...  2015-08-31  "
      ],
      "text/html": "<div>\n<style scoped>\n    .dataframe tbody tr th:only-of-type {\n        vertical-align: middle;\n    }\n\n    .dataframe tbody tr th {\n        vertical-align: top;\n    }\n\n    .dataframe thead th {\n        text-align: right;\n    }\n</style>\n<table border=\"1\" class=\"dataframe\">\n  <thead>\n    <tr style=\"text-align: right;\">\n      <th></th>\n      <th>marketplace</th>\n      <th>customer_id</th>\n      <th>review_id</th>\n      <th>product_id</th>\n      <th>product_parent</th>\n      <th>product_title</th>\n      <th>product_category</th>\n      <th>star_rating</th>\n      <th>helpful_votes</th>\n      <th>total_votes</th>\n      <th>vine</th>\n      <th>verified_purchase</th>\n      <th>review_headline</th>\n      <th>review_body</th>\n      <th>review_date</th>\n    </tr>\n  </thead>\n  <tbody>\n    <tr>\n      <th>130</th>\n      <td>US</td>\n      <td>21294263</td>\n      <td>R3KT8X23DG3WCI</td>\n      <td>B00ZPV2070</td>\n      <td>22340539</td>\n      <td>Wolfgang Puck Coffee Keurig K-Cups - Vanilla F...</td>\n      <td>Grocery</td>\n      <td>5</td>\n      <td>0.0</td>\n      <td>0.0</td>\n      <td>N</td>\n      <td>Y</td>\n      <td>Great coffee</td>\n      <td>Delicious</td>\n      <td>2015-08-31</td>\n    </tr>\n    <tr>\n      <th>186</th>\n      <td>US</td>\n      <td>41355087</td>\n      <td>R8AE9OXZMTORH</td>\n      <td>B00KDW19WS</td>\n      <td>76193812</td>\n      <td>Nagaraya Cracker Nuts Assorted Bundle 4-Pack: ...</td>\n      <td>Grocery</td>\n      <td>5</td>\n      <td>0.0</td>\n      <td>0.0</td>\n      <td>N</td>\n      <td>Y</td>\n      <td>Five Stars</td>\n      <td>Yummy</td>\n      <td>2015-08-31</td>\n    </tr>\n    <tr>\n      <th>208</th>\n      <td>US</td>\n      <td>51044872</td>\n      <td>R3QZBU3F214CF1</td>\n      <td>B00N2FVHWU</td>\n      <td>928026267</td>\n      <td>Green Mountain Coffee Wicked Winter Blend Keur...</td>\n      <td>Grocery</td>\n      <td>5</td>\n      <td>1.0</td>\n      <td>1.0</td>\n      <td>N</td>\n      <td>Y</td>\n      <td>Five Stars</td>\n      <td>Great coffee</td>\n      <td>2015-08-31</td>\n    </tr>\n    <tr>\n      <th>270</th>\n      <td>US</td>\n      <td>48880662</td>\n      <td>RRRDCQSQ66LE</td>\n      <td>B008TMIO2M</td>\n      <td>81982020</td>\n      <td>Nutella, Hazelnut Spread with Cocoa</td>\n      <td>Grocery</td>\n      <td>4</td>\n      <td>0.0</td>\n      <td>0.0</td>\n      <td>N</td>\n      <td>Y</td>\n      <td>Four Stars</td>\n      <td>good</td>\n      <td>2015-08-31</td>\n    </tr>\n    <tr>\n      <th>273</th>\n      <td>US</td>\n      <td>14100648</td>\n      <td>RGH9G1J3M0ZW6</td>\n      <td>B005P0U5BO</td>\n      <td>936604878</td>\n      <td>Envirokidz Organic Bar Gf Crspyrice Brry Org</td>\n      <td>Grocery</td>\n      <td>5</td>\n      <td>0.0</td>\n      <td>0.0</td>\n      <td>N</td>\n      <td>Y</td>\n      <td>GREAT! Thanks So much and God bless</td>\n      <td>GREAT!  Thanks So much and God bless!  &amp;#60;&amp;#...</td>\n      <td>2015-08-31</td>\n    </tr>\n  </tbody>\n</table>\n</div>"
     },
     "metadata": {},
     "execution_count": 3
    }
   ],
   "source": [
    "# Lots of spammy duplicate reviews...might be worth checking if the same person is duplicating the reviews across multiple products\n",
    "\n",
    "\n",
    "x = dataset[dataset['review_body'].duplicated() == True]\n",
    "x.head()"
   ]
  },
  {
   "cell_type": "code",
   "execution_count": 4,
   "metadata": {},
   "outputs": [],
   "source": [
    "#remove NaNs from the dataset  for now...\n",
    "dataset = dataset.dropna()"
   ]
  },
  {
   "cell_type": "code",
   "execution_count": 5,
   "metadata": {},
   "outputs": [],
   "source": [
    "\n",
    "def filter_heuristic(row):\n",
    "    '''\n",
    "    determine if a row is a negative review based on its score. Potentially extend it to include sentiment analysis \n",
    "    and presence of specific negative words \n",
    "    '''\n",
    "    return row[\"star_rating\"].astype(int) <=3"
   ]
  },
  {
   "cell_type": "code",
   "execution_count": 7,
   "metadata": {},
   "outputs": [
    {
     "output_type": "execute_result",
     "data": {
      "text/plain": [
       "   marketplace  customer_id       review_id  product_id  product_parent  \\\n",
       "5           US     23649464   RIG9AWFOGRDVO  B00AL6QBZ6       681475449   \n",
       "9           US     19624355  R1ODXB3C9UP3NL  B00J074W94         2499702   \n",
       "17          US     22765168  R3T6TTD2IN0EFZ  B00XDXMLL2       971154239   \n",
       "23          US     35636887   R9MISLBRG08FX  B00DBSFXUA       294404974   \n",
       "26          US     12650237  R2A9O8CWZ1PP74  B0083GJKR2       868929824   \n",
       "\n",
       "                                        product_title product_category  \\\n",
       "5         Herr's Popcorn Hot Cheese 1 Oz (Pack of 30)          Grocery   \n",
       "9   Orgain Organic Plant Based Protein Powder, Pac...          Grocery   \n",
       "17  Skippy Creamy Peanut Butter, with Salted Caram...          Grocery   \n",
       "23        Keebler Town House Pita Crackers, 9.5 Ounce          Grocery   \n",
       "26  Eclipse Sugar Free Gum, Spearmint, 120 Piece B...          Grocery   \n",
       "\n",
       "   star_rating  helpful_votes  total_votes vine verified_purchase  \\\n",
       "5            2            1.0          1.0    N                 Y   \n",
       "9            1            1.0          3.0    N                 N   \n",
       "17           1            4.0          4.0    N                 N   \n",
       "23           1            0.0          0.0    N                 Y   \n",
       "26           3            0.0          0.0    N                 Y   \n",
       "\n",
       "                                      review_headline  \\\n",
       "5                                           Not Happy   \n",
       "9           Disgusting now and difficult on digestion   \n",
       "17  1 Out Of 5 Of My Co-Workers Thought It Was \"Okay\"   \n",
       "23                                      pita crackers   \n",
       "26                                        Three Stars   \n",
       "\n",
       "                                          review_body review_date  \n",
       "5                              The popcorn was stale.  2015-08-31  \n",
       "9   Used to be a decent product.  Disgusting now a...  2015-08-31  \n",
       "17  I bought this from a local super market on a w...  2015-08-31  \n",
       "23  not craze about these. nothing really wrong wi...  2015-08-31  \n",
       "26                                         it's gum..  2015-08-31  "
      ],
      "text/html": "<div>\n<style scoped>\n    .dataframe tbody tr th:only-of-type {\n        vertical-align: middle;\n    }\n\n    .dataframe tbody tr th {\n        vertical-align: top;\n    }\n\n    .dataframe thead th {\n        text-align: right;\n    }\n</style>\n<table border=\"1\" class=\"dataframe\">\n  <thead>\n    <tr style=\"text-align: right;\">\n      <th></th>\n      <th>marketplace</th>\n      <th>customer_id</th>\n      <th>review_id</th>\n      <th>product_id</th>\n      <th>product_parent</th>\n      <th>product_title</th>\n      <th>product_category</th>\n      <th>star_rating</th>\n      <th>helpful_votes</th>\n      <th>total_votes</th>\n      <th>vine</th>\n      <th>verified_purchase</th>\n      <th>review_headline</th>\n      <th>review_body</th>\n      <th>review_date</th>\n    </tr>\n  </thead>\n  <tbody>\n    <tr>\n      <th>5</th>\n      <td>US</td>\n      <td>23649464</td>\n      <td>RIG9AWFOGRDVO</td>\n      <td>B00AL6QBZ6</td>\n      <td>681475449</td>\n      <td>Herr's Popcorn Hot Cheese 1 Oz (Pack of 30)</td>\n      <td>Grocery</td>\n      <td>2</td>\n      <td>1.0</td>\n      <td>1.0</td>\n      <td>N</td>\n      <td>Y</td>\n      <td>Not Happy</td>\n      <td>The popcorn was stale.</td>\n      <td>2015-08-31</td>\n    </tr>\n    <tr>\n      <th>9</th>\n      <td>US</td>\n      <td>19624355</td>\n      <td>R1ODXB3C9UP3NL</td>\n      <td>B00J074W94</td>\n      <td>2499702</td>\n      <td>Orgain Organic Plant Based Protein Powder, Pac...</td>\n      <td>Grocery</td>\n      <td>1</td>\n      <td>1.0</td>\n      <td>3.0</td>\n      <td>N</td>\n      <td>N</td>\n      <td>Disgusting now and difficult on digestion</td>\n      <td>Used to be a decent product.  Disgusting now a...</td>\n      <td>2015-08-31</td>\n    </tr>\n    <tr>\n      <th>17</th>\n      <td>US</td>\n      <td>22765168</td>\n      <td>R3T6TTD2IN0EFZ</td>\n      <td>B00XDXMLL2</td>\n      <td>971154239</td>\n      <td>Skippy Creamy Peanut Butter, with Salted Caram...</td>\n      <td>Grocery</td>\n      <td>1</td>\n      <td>4.0</td>\n      <td>4.0</td>\n      <td>N</td>\n      <td>N</td>\n      <td>1 Out Of 5 Of My Co-Workers Thought It Was \"Okay\"</td>\n      <td>I bought this from a local super market on a w...</td>\n      <td>2015-08-31</td>\n    </tr>\n    <tr>\n      <th>23</th>\n      <td>US</td>\n      <td>35636887</td>\n      <td>R9MISLBRG08FX</td>\n      <td>B00DBSFXUA</td>\n      <td>294404974</td>\n      <td>Keebler Town House Pita Crackers, 9.5 Ounce</td>\n      <td>Grocery</td>\n      <td>1</td>\n      <td>0.0</td>\n      <td>0.0</td>\n      <td>N</td>\n      <td>Y</td>\n      <td>pita crackers</td>\n      <td>not craze about these. nothing really wrong wi...</td>\n      <td>2015-08-31</td>\n    </tr>\n    <tr>\n      <th>26</th>\n      <td>US</td>\n      <td>12650237</td>\n      <td>R2A9O8CWZ1PP74</td>\n      <td>B0083GJKR2</td>\n      <td>868929824</td>\n      <td>Eclipse Sugar Free Gum, Spearmint, 120 Piece B...</td>\n      <td>Grocery</td>\n      <td>3</td>\n      <td>0.0</td>\n      <td>0.0</td>\n      <td>N</td>\n      <td>Y</td>\n      <td>Three Stars</td>\n      <td>it's gum..</td>\n      <td>2015-08-31</td>\n    </tr>\n  </tbody>\n</table>\n</div>"
     },
     "metadata": {},
     "execution_count": 7
    }
   ],
   "source": [
    "negative_rows = dataset.loc[filter_heuristic]\n",
    "negative_rows.head()"
   ]
  },
  {
   "cell_type": "code",
   "execution_count": 40,
   "metadata": {},
   "outputs": [],
   "source": [
    "bad_words = [\n",
    "    \"stinky\",\n",
    "    \"moldy\",\n",
    "    \"mouldy\",\n",
    "    \"rotted\",\n",
    "    \"rotten\",\n",
    "    \"stale\"\n",
    "    \"stinking\",\n",
    "    \"icky\",\n",
    "    \"curdled\",\n",
    "    \"danger\",\n",
    "    \"dangerous\",\n",
    "    \"avoid\",\n",
    "    \"ammonia\",\n",
    "    \"sick\"\n",
    "]\n",
    "\n",
    "def filter_bad_words(row):\n",
    "    '''\n",
    "    determine if a row is a negative review based on its words.\n",
    "    '''\n",
    "    return row[\"review_headline\"].str.contains(\"\\\\b(%s)\\\\b\" % '|'.join(bad_words))\n"
   ]
  },
  {
   "cell_type": "code",
   "execution_count": 41,
   "metadata": {},
   "outputs": [],
   "source": [
    "negative_rows = negative_rows.loc[filter_bad_words]"
   ]
  },
  {
   "cell_type": "code",
   "execution_count": 11,
   "metadata": {},
   "outputs": [
    {
     "output_type": "stream",
     "name": "stdout",
     "text": [
      "704\n"
     ]
    }
   ],
   "source": []
  },
  {
   "cell_type": "code",
   "execution_count": 42,
   "metadata": {},
   "outputs": [
    {
     "output_type": "stream",
     "name": "stdout",
     "text": [
      "{'neg': 0.552, 'neu': 0.448, 'pos': 0.0, 'compound': -0.5707}\n"
     ]
    }
   ],
   "source": [
    "#nltk.download('vader_lexicon')\n",
    "sia = SentimentIntensityAnalyzer()\n",
    "test_scores = sia.polarity_scores(\"That sandwidch was disgusting!\")\n",
    "print(test_scores)\n",
    "\n",
    "def sentiment_heuristic(row):\n",
    "    return sia.polarity_scores(row)['compound']\n",
    "\n",
    "negative_rows['sentiment_score'] = negative_rows[\"review_body\"].apply(sentiment_heuristic)"
   ]
  },
  {
   "cell_type": "code",
   "execution_count": 63,
   "metadata": {},
   "outputs": [
    {
     "output_type": "stream",
     "name": "stdout",
     "text": [
      "I got this by mistake, somehow.  there seems to be a regular yellow candy style AND then there is this red stripe variety.  I had ordered the yellow plain kind but they shipped this, instead.  I tried two pieces.  could not even finish either one.  tasted like wax or something very flavorless!  I would not buy this.  in fact, I did not, but for some reason, amazon shipped this to me.\n0.7263\n\nProbably would have been good, but my nuts were rancid.\n-0.775\n\nI am Turkish and I've never had any problems with Marmarabirlik olives in my whole life.  HOWEVER, this is the first time I've ordered them online and I have to say there were the worst olives I've ever tasted.  They were rotten!  My Mom even commented that these olives are bad.  Maybe I got a bad batch because this company makes one of the very best Turkish olives on the market.  I'm extremely disappointed with this online order.\n-0.9069\n\nThe taste is okay....Nothing spectacular....It tastes like it was made with rotted anchovies....<br />The main problem: I braised something using this sauce and my apartment stunk like rotted fish for days....<br />The cheap plastic bottle does not make this product more enticing.....\n-0.0772\n\n"
     ]
    }
   ],
   "source": [
    "pd.set_option('display.max_colwidth', None)\n",
    "rows = negative_rows.head(n=4)['review_body']\n",
    "for row in rows:\n",
    "    print(row)\n",
    "    print(sia.polarity_scores(row)['compound'])\n",
    "    print(\"\")"
   ]
  },
  {
   "cell_type": "code",
   "execution_count": 64,
   "metadata": {},
   "outputs": [],
   "source": [
    "negative_rows = negative_rows[negative_rows['sentiment_score'] < 0]"
   ]
  },
  {
   "cell_type": "code",
   "execution_count": 68,
   "metadata": {},
   "outputs": [
    {
     "output_type": "execute_result",
     "data": {
      "text/plain": [
       "      marketplace  customer_id       review_id  product_id  product_parent  \\\n",
       "8911           US     37307498   RZP5EWKOBX5KH  B009L9TMBY       696947556   \n",
       "22258          US     47973491  R1NOLST0E8IATT  B0036ZIF9Y       923729241   \n",
       "35555          US     30293525  R1FRDE0OIA546B  B00TCOAXR0       915238907   \n",
       "36783          US     50106447  R2KIR9GSCGNQI6  B002N723Q2       479009963   \n",
       "44033          US     23565135  R1GGRVYJDHN2GV  B00BUPEOKG       393268588   \n",
       "54550          US     22365141   RGSXU84MSLDY7  B006GL6N9E       776164341   \n",
       "70811          US     13861214  R1X6047VQJ7JQ7  B00T77QT5M       290213412   \n",
       "73105          US     37337835   R3SV31LUR8QP5  B00FIQLAPA       264430861   \n",
       "\n",
       "                                                              product_title  \\\n",
       "8911                                            Deluxe Mixed Nuts Raw, 2Lbs   \n",
       "22258                           Gemlik Type Black Olives LUX – 1.1lb (500g)   \n",
       "35555                                     Chung Jung One Anchovy Sauce Blue   \n",
       "36783                                Numi Organic Black Tea, Loose Leaf Tea   \n",
       "44033                  Muffin Town Gluten Free Snack 'N Loaves (12 Per Box)   \n",
       "54550                             Fruit Basket Delight with Cheese and Nuts   \n",
       "70811             Barnana Organic Chewy Banana Bites Variety Pack, 12 Count   \n",
       "73105  Ice Breakers Berry Sours Original Sours, 1.5-Ounce Pucks (Pack of 8)   \n",
       "\n",
       "      product_category star_rating  helpful_votes  total_votes vine  \\\n",
       "8911           Grocery           2            1.0          1.0    N   \n",
       "22258          Grocery           1            2.0          2.0    N   \n",
       "35555          Grocery           1            3.0          9.0    N   \n",
       "36783          Grocery           1            1.0          3.0    N   \n",
       "44033          Grocery           1            0.0          0.0    N   \n",
       "54550          Grocery           2            0.0          0.0    N   \n",
       "70811          Grocery           1            0.0          2.0    N   \n",
       "73105          Grocery           1            1.0          1.0    N   \n",
       "\n",
       "      verified_purchase  \\\n",
       "8911                  Y   \n",
       "22258                 Y   \n",
       "35555                 Y   \n",
       "36783                 Y   \n",
       "44033                 N   \n",
       "54550                 Y   \n",
       "70811                 Y   \n",
       "73105                 Y   \n",
       "\n",
       "                                             review_headline  \\\n",
       "8911                               Ixnay on the rotten nuts.   \n",
       "22258                Mine were rotten and tasted horrible...   \n",
       "35555  .It tastes like it was made with rotted anchovies....   \n",
       "36783                     Good taste, but with rotten flavor   \n",
       "44033      Very disappointed that 5 of the loaves were moldy   \n",
       "54550                                           rotten fruit   \n",
       "70811                  These taste like rotten moldy bananas   \n",
       "73105           Not as pictured! Definitely avoid this item!   \n",
       "\n",
       "                                                                                                                                                                                                                                                                                                                                                                                                                                              review_body  \\\n",
       "8911                                                                                                                                                                                                                                                                                                                                                                                              Probably would have been good, but my nuts were rancid.   \n",
       "22258  I am Turkish and I've never had any problems with Marmarabirlik olives in my whole life.  HOWEVER, this is the first time I've ordered them online and I have to say there were the worst olives I've ever tasted.  They were rotten!  My Mom even commented that these olives are bad.  Maybe I got a bad batch because this company makes one of the very best Turkish olives on the market.  I'm extremely disappointed with this online order.   \n",
       "35555                                                                                                                                                       The taste is okay....Nothing spectacular....It tastes like it was made with rotted anchovies....<br />The main problem: I braised something using this sauce and my apartment stunk like rotted fish for days....<br />The cheap plastic bottle does not make this product more enticing.....   \n",
       "36783                                                                                                                                                                              Good taste, but absolutely no flavor, both dry and brewed. Contacted Numi Customer Service. Got careless response, They sent me a couple of tea bags which were much worse than the loose Emperor's Puerh tea. After a month or so it smells rotten. Still taste is OK   \n",
       "44033                                                                                                                                                                                                                                                     This is my second time buying this product. Very disappointed that 5 of the loaves were moldy. The mold was just visible on the bottom of the loaves. I wont buy them again for health reasons.   \n",
       "54550                                                                                                                                                                                                                                                                                                                                                           I sent this to my Mom for Mothers Day and the fruit was rotten! It made me feel terrible.   \n",
       "70811                                                                                                                                                             These taste like rotten moldy bananas. I  was trying to find a product that came close to the banana chunks that the Philippine brand made since I can't seem to find them anymore, but these aren't even edible much less comparible.<br />Unfortunately it won't let me give no star.   \n",
       "73105                                                                                                     Fraud, pure and simple. Item delivered was a Chinese food product, with no content information in English. That includes contents and expiration dates. Everything is in Chinese. If I had known this, I never would have ordered this, and Amazon.com needs to protect customers from this outrage. DO NOT ORDER THIS PRODUCT FROM AMAZON.COM!   \n",
       "\n",
       "      review_date  sentiment_score  \n",
       "8911   2015-08-28          -0.7750  \n",
       "22258  2015-08-24          -0.9069  \n",
       "35555  2015-08-19          -0.0772  \n",
       "36783  2015-08-19          -0.9272  \n",
       "44033  2015-08-17          -0.5256  \n",
       "54550  2015-08-12          -0.7712  \n",
       "70811  2015-08-07          -0.4939  \n",
       "73105  2015-08-06          -0.8209  "
      ],
      "text/html": "<div>\n<style scoped>\n    .dataframe tbody tr th:only-of-type {\n        vertical-align: middle;\n    }\n\n    .dataframe tbody tr th {\n        vertical-align: top;\n    }\n\n    .dataframe thead th {\n        text-align: right;\n    }\n</style>\n<table border=\"1\" class=\"dataframe\">\n  <thead>\n    <tr style=\"text-align: right;\">\n      <th></th>\n      <th>marketplace</th>\n      <th>customer_id</th>\n      <th>review_id</th>\n      <th>product_id</th>\n      <th>product_parent</th>\n      <th>product_title</th>\n      <th>product_category</th>\n      <th>star_rating</th>\n      <th>helpful_votes</th>\n      <th>total_votes</th>\n      <th>vine</th>\n      <th>verified_purchase</th>\n      <th>review_headline</th>\n      <th>review_body</th>\n      <th>review_date</th>\n      <th>sentiment_score</th>\n    </tr>\n  </thead>\n  <tbody>\n    <tr>\n      <th>8911</th>\n      <td>US</td>\n      <td>37307498</td>\n      <td>RZP5EWKOBX5KH</td>\n      <td>B009L9TMBY</td>\n      <td>696947556</td>\n      <td>Deluxe Mixed Nuts Raw, 2Lbs</td>\n      <td>Grocery</td>\n      <td>2</td>\n      <td>1.0</td>\n      <td>1.0</td>\n      <td>N</td>\n      <td>Y</td>\n      <td>Ixnay on the rotten nuts.</td>\n      <td>Probably would have been good, but my nuts were rancid.</td>\n      <td>2015-08-28</td>\n      <td>-0.7750</td>\n    </tr>\n    <tr>\n      <th>22258</th>\n      <td>US</td>\n      <td>47973491</td>\n      <td>R1NOLST0E8IATT</td>\n      <td>B0036ZIF9Y</td>\n      <td>923729241</td>\n      <td>Gemlik Type Black Olives LUX – 1.1lb (500g)</td>\n      <td>Grocery</td>\n      <td>1</td>\n      <td>2.0</td>\n      <td>2.0</td>\n      <td>N</td>\n      <td>Y</td>\n      <td>Mine were rotten and tasted horrible...</td>\n      <td>I am Turkish and I've never had any problems with Marmarabirlik olives in my whole life.  HOWEVER, this is the first time I've ordered them online and I have to say there were the worst olives I've ever tasted.  They were rotten!  My Mom even commented that these olives are bad.  Maybe I got a bad batch because this company makes one of the very best Turkish olives on the market.  I'm extremely disappointed with this online order.</td>\n      <td>2015-08-24</td>\n      <td>-0.9069</td>\n    </tr>\n    <tr>\n      <th>35555</th>\n      <td>US</td>\n      <td>30293525</td>\n      <td>R1FRDE0OIA546B</td>\n      <td>B00TCOAXR0</td>\n      <td>915238907</td>\n      <td>Chung Jung One Anchovy Sauce Blue</td>\n      <td>Grocery</td>\n      <td>1</td>\n      <td>3.0</td>\n      <td>9.0</td>\n      <td>N</td>\n      <td>Y</td>\n      <td>.It tastes like it was made with rotted anchovies....</td>\n      <td>The taste is okay....Nothing spectacular....It tastes like it was made with rotted anchovies....&lt;br /&gt;The main problem: I braised something using this sauce and my apartment stunk like rotted fish for days....&lt;br /&gt;The cheap plastic bottle does not make this product more enticing.....</td>\n      <td>2015-08-19</td>\n      <td>-0.0772</td>\n    </tr>\n    <tr>\n      <th>36783</th>\n      <td>US</td>\n      <td>50106447</td>\n      <td>R2KIR9GSCGNQI6</td>\n      <td>B002N723Q2</td>\n      <td>479009963</td>\n      <td>Numi Organic Black Tea, Loose Leaf Tea</td>\n      <td>Grocery</td>\n      <td>1</td>\n      <td>1.0</td>\n      <td>3.0</td>\n      <td>N</td>\n      <td>Y</td>\n      <td>Good taste, but with rotten flavor</td>\n      <td>Good taste, but absolutely no flavor, both dry and brewed. Contacted Numi Customer Service. Got careless response, They sent me a couple of tea bags which were much worse than the loose Emperor's Puerh tea. After a month or so it smells rotten. Still taste is OK</td>\n      <td>2015-08-19</td>\n      <td>-0.9272</td>\n    </tr>\n    <tr>\n      <th>44033</th>\n      <td>US</td>\n      <td>23565135</td>\n      <td>R1GGRVYJDHN2GV</td>\n      <td>B00BUPEOKG</td>\n      <td>393268588</td>\n      <td>Muffin Town Gluten Free Snack 'N Loaves (12 Per Box)</td>\n      <td>Grocery</td>\n      <td>1</td>\n      <td>0.0</td>\n      <td>0.0</td>\n      <td>N</td>\n      <td>N</td>\n      <td>Very disappointed that 5 of the loaves were moldy</td>\n      <td>This is my second time buying this product. Very disappointed that 5 of the loaves were moldy. The mold was just visible on the bottom of the loaves. I wont buy them again for health reasons.</td>\n      <td>2015-08-17</td>\n      <td>-0.5256</td>\n    </tr>\n    <tr>\n      <th>54550</th>\n      <td>US</td>\n      <td>22365141</td>\n      <td>RGSXU84MSLDY7</td>\n      <td>B006GL6N9E</td>\n      <td>776164341</td>\n      <td>Fruit Basket Delight with Cheese and Nuts</td>\n      <td>Grocery</td>\n      <td>2</td>\n      <td>0.0</td>\n      <td>0.0</td>\n      <td>N</td>\n      <td>Y</td>\n      <td>rotten fruit</td>\n      <td>I sent this to my Mom for Mothers Day and the fruit was rotten! It made me feel terrible.</td>\n      <td>2015-08-12</td>\n      <td>-0.7712</td>\n    </tr>\n    <tr>\n      <th>70811</th>\n      <td>US</td>\n      <td>13861214</td>\n      <td>R1X6047VQJ7JQ7</td>\n      <td>B00T77QT5M</td>\n      <td>290213412</td>\n      <td>Barnana Organic Chewy Banana Bites Variety Pack, 12 Count</td>\n      <td>Grocery</td>\n      <td>1</td>\n      <td>0.0</td>\n      <td>2.0</td>\n      <td>N</td>\n      <td>Y</td>\n      <td>These taste like rotten moldy bananas</td>\n      <td>These taste like rotten moldy bananas. I  was trying to find a product that came close to the banana chunks that the Philippine brand made since I can't seem to find them anymore, but these aren't even edible much less comparible.&lt;br /&gt;Unfortunately it won't let me give no star.</td>\n      <td>2015-08-07</td>\n      <td>-0.4939</td>\n    </tr>\n    <tr>\n      <th>73105</th>\n      <td>US</td>\n      <td>37337835</td>\n      <td>R3SV31LUR8QP5</td>\n      <td>B00FIQLAPA</td>\n      <td>264430861</td>\n      <td>Ice Breakers Berry Sours Original Sours, 1.5-Ounce Pucks (Pack of 8)</td>\n      <td>Grocery</td>\n      <td>1</td>\n      <td>1.0</td>\n      <td>1.0</td>\n      <td>N</td>\n      <td>Y</td>\n      <td>Not as pictured! Definitely avoid this item!</td>\n      <td>Fraud, pure and simple. Item delivered was a Chinese food product, with no content information in English. That includes contents and expiration dates. Everything is in Chinese. If I had known this, I never would have ordered this, and Amazon.com needs to protect customers from this outrage. DO NOT ORDER THIS PRODUCT FROM AMAZON.COM!</td>\n      <td>2015-08-06</td>\n      <td>-0.8209</td>\n    </tr>\n  </tbody>\n</table>\n</div>"
     },
     "metadata": {},
     "execution_count": 68
    }
   ],
   "source": [
    "sorted_negative_rows = negative_rows.sort_values(\"product_id\")\n",
    "negative_rows.head(n=8)"
   ]
  },
  {
   "cell_type": "code",
   "execution_count": null,
   "metadata": {},
   "outputs": [],
   "source": []
  }
 ],
 "metadata": {
  "kernelspec": {
   "name": "python3",
   "display_name": "Python 3.8.5 64-bit (conda)",
   "metadata": {
    "interpreter": {
     "hash": "fbff9bfab3ee0df4124016b4e010029cf2ec5864ce5e3c4aa09796cc364af95f"
    }
   }
  },
  "language_info": {
   "codemirror_mode": {
    "name": "ipython",
    "version": 3
   },
   "file_extension": ".py",
   "mimetype": "text/x-python",
   "name": "python",
   "nbconvert_exporter": "python",
   "pygments_lexer": "ipython3",
   "version": "3.8.5-final"
  }
 },
 "nbformat": 4,
 "nbformat_minor": 4
}